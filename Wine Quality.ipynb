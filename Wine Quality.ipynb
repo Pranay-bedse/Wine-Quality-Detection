{
 "cells": [
  {
   "cell_type": "markdown",
   "id": "f628437a",
   "metadata": {},
   "source": [
    "## Predicting Wine Quality using Machine Learning."
   ]
  },
  {
   "cell_type": "markdown",
   "id": "b301eb17",
   "metadata": {},
   "source": [
    "we're going to take following approch:\n",
    "\n",
    "1. Data Extraction\n",
    "2. Data Analysis\n",
    "3. Data Interpretation and Representation.\n",
    "4. Data Preprocessing\n",
    "    * Data Cleaning\n",
    "    * Outlier Detection\n",
    "    * Feature Scaling \n",
    "    * Feature Selection\n",
    "5. Model Selection\n",
    "6. Model Evaluation\n",
    "7. Deployement."
   ]
  },
  {
   "cell_type": "code",
   "execution_count": 1,
   "id": "f9aaf828",
   "metadata": {},
   "outputs": [],
   "source": [
    "#Importing Required libraries.\n",
    "import pandas as pd\n",
    "import numpy as np\n",
    "import matplotlib.pyplot as plt\n",
    "import seaborn as sns\n",
    "\n",
    "#plot style.\n",
    "plt.style.use('seaborn')"
   ]
  },
  {
   "cell_type": "markdown",
   "id": "36daf14e",
   "metadata": {},
   "source": [
    "# Data Extraction"
   ]
  },
  {
   "cell_type": "code",
   "execution_count": 2,
   "id": "28f54bdd",
   "metadata": {},
   "outputs": [
    {
     "data": {
      "text/html": [
       "<div>\n",
       "<style scoped>\n",
       "    .dataframe tbody tr th:only-of-type {\n",
       "        vertical-align: middle;\n",
       "    }\n",
       "\n",
       "    .dataframe tbody tr th {\n",
       "        vertical-align: top;\n",
       "    }\n",
       "\n",
       "    .dataframe thead th {\n",
       "        text-align: right;\n",
       "    }\n",
       "</style>\n",
       "<table border=\"1\" class=\"dataframe\">\n",
       "  <thead>\n",
       "    <tr style=\"text-align: right;\">\n",
       "      <th></th>\n",
       "      <th>fixed acidity</th>\n",
       "      <th>volatile acidity</th>\n",
       "      <th>citric acid</th>\n",
       "      <th>residual sugar</th>\n",
       "      <th>chlorides</th>\n",
       "      <th>free sulfur dioxide</th>\n",
       "      <th>total sulfur dioxide</th>\n",
       "      <th>density</th>\n",
       "      <th>pH</th>\n",
       "      <th>sulphates</th>\n",
       "      <th>alcohol</th>\n",
       "      <th>quality</th>\n",
       "    </tr>\n",
       "  </thead>\n",
       "  <tbody>\n",
       "    <tr>\n",
       "      <th>0</th>\n",
       "      <td>7.4</td>\n",
       "      <td>0.70</td>\n",
       "      <td>0.00</td>\n",
       "      <td>1.9</td>\n",
       "      <td>0.076</td>\n",
       "      <td>11.0</td>\n",
       "      <td>34.0</td>\n",
       "      <td>0.9978</td>\n",
       "      <td>3.51</td>\n",
       "      <td>0.56</td>\n",
       "      <td>9.4</td>\n",
       "      <td>5</td>\n",
       "    </tr>\n",
       "    <tr>\n",
       "      <th>1</th>\n",
       "      <td>7.8</td>\n",
       "      <td>0.88</td>\n",
       "      <td>0.00</td>\n",
       "      <td>2.6</td>\n",
       "      <td>0.098</td>\n",
       "      <td>25.0</td>\n",
       "      <td>67.0</td>\n",
       "      <td>0.9968</td>\n",
       "      <td>3.20</td>\n",
       "      <td>0.68</td>\n",
       "      <td>9.8</td>\n",
       "      <td>5</td>\n",
       "    </tr>\n",
       "    <tr>\n",
       "      <th>2</th>\n",
       "      <td>7.8</td>\n",
       "      <td>0.76</td>\n",
       "      <td>0.04</td>\n",
       "      <td>2.3</td>\n",
       "      <td>0.092</td>\n",
       "      <td>15.0</td>\n",
       "      <td>54.0</td>\n",
       "      <td>0.9970</td>\n",
       "      <td>3.26</td>\n",
       "      <td>0.65</td>\n",
       "      <td>9.8</td>\n",
       "      <td>5</td>\n",
       "    </tr>\n",
       "    <tr>\n",
       "      <th>3</th>\n",
       "      <td>11.2</td>\n",
       "      <td>0.28</td>\n",
       "      <td>0.56</td>\n",
       "      <td>1.9</td>\n",
       "      <td>0.075</td>\n",
       "      <td>17.0</td>\n",
       "      <td>60.0</td>\n",
       "      <td>0.9980</td>\n",
       "      <td>3.16</td>\n",
       "      <td>0.58</td>\n",
       "      <td>9.8</td>\n",
       "      <td>6</td>\n",
       "    </tr>\n",
       "    <tr>\n",
       "      <th>4</th>\n",
       "      <td>7.4</td>\n",
       "      <td>0.70</td>\n",
       "      <td>0.00</td>\n",
       "      <td>1.9</td>\n",
       "      <td>0.076</td>\n",
       "      <td>11.0</td>\n",
       "      <td>34.0</td>\n",
       "      <td>0.9978</td>\n",
       "      <td>3.51</td>\n",
       "      <td>0.56</td>\n",
       "      <td>9.4</td>\n",
       "      <td>5</td>\n",
       "    </tr>\n",
       "  </tbody>\n",
       "</table>\n",
       "</div>"
      ],
      "text/plain": [
       "   fixed acidity  volatile acidity  citric acid  residual sugar  chlorides  \\\n",
       "0            7.4              0.70         0.00             1.9      0.076   \n",
       "1            7.8              0.88         0.00             2.6      0.098   \n",
       "2            7.8              0.76         0.04             2.3      0.092   \n",
       "3           11.2              0.28         0.56             1.9      0.075   \n",
       "4            7.4              0.70         0.00             1.9      0.076   \n",
       "\n",
       "   free sulfur dioxide  total sulfur dioxide  density    pH  sulphates  \\\n",
       "0                 11.0                  34.0   0.9978  3.51       0.56   \n",
       "1                 25.0                  67.0   0.9968  3.20       0.68   \n",
       "2                 15.0                  54.0   0.9970  3.26       0.65   \n",
       "3                 17.0                  60.0   0.9980  3.16       0.58   \n",
       "4                 11.0                  34.0   0.9978  3.51       0.56   \n",
       "\n",
       "   alcohol  quality  \n",
       "0      9.4        5  \n",
       "1      9.8        5  \n",
       "2      9.8        5  \n",
       "3      9.8        6  \n",
       "4      9.4        5  "
      ]
     },
     "execution_count": 2,
     "metadata": {},
     "output_type": "execute_result"
    }
   ],
   "source": [
    "#Loading the data into dataframe.\n",
    "df = pd.read_csv('winequality-red.csv')\n",
    "\n",
    "#Having a look at the data.\n",
    "df.head()"
   ]
  },
  {
   "cell_type": "markdown",
   "id": "499436e0",
   "metadata": {},
   "source": [
    "This data frame contains the following columns:\n",
    "\n",
    "Input variables (based on physicochemical tests):\\\n",
    "1 - fixed acidity: most acids involved with wine or fixed or nonvolatile (do not evaporate readily)\n",
    "\n",
    "2 - volatile acidity: the amount of acetic acid in wine, which at too high of levels can lead to an unpleasant, vinegar taste\n",
    "\n",
    "3 - citric acid: found in small quantities, citric acid can add 'freshness' and flavor to wines\n",
    "\n",
    "4 - residual sugar: the amount of sugar remaining after fermentation stops, it's rare to find wines with less than 1 gram/liter and wines with greater than 45 grams/liter are considered sweet\n",
    "\n",
    "5 - chlorides: the amount of salt in the wine\n",
    "\n",
    "6 - free sulfur dioxide: the free form of SO2 exists in equilibrium between molecular SO2 (as a dissolved gas) and bisulfite ion; it prevents microbial growth and the oxidation of wine\n",
    "\n",
    "7 - total sulfur dioxide: amount of free and bound forms of S02; in low concentrations, SO2 is mostly undetectable in wine, but at free SO2 concentrations over 50 ppm, SO2 becomes evident in the nose and taste of wine\n",
    "\n",
    "8 - density: the density of water is close to that of water depending on the percent alcohol and sugar content\n",
    "\n",
    "9 - pH: describes how acidic or basic a wine is on a scale from 0 (very acidic) to 14 (very basic); most wines are between 3-4 on the pH scale\n",
    "\n",
    "10 - sulphates: a wine additive which can contribute to sulfur dioxide gas (S02) levels, wich acts as an antimicrobial and antioxidant\n",
    "\n",
    "11 - alcohol: the percent alcohol content of the wine\n",
    "\n",
    "Output variable (based on sensory data): 12 - quality (score between 0 and 10)"
   ]
  },
  {
   "cell_type": "markdown",
   "id": "ae2f6529",
   "metadata": {},
   "source": [
    "# Data Analysis"
   ]
  },
  {
   "cell_type": "code",
   "execution_count": 3,
   "id": "b296d827",
   "metadata": {},
   "outputs": [
    {
     "data": {
      "text/plain": [
       "(1599, 12)"
      ]
     },
     "execution_count": 3,
     "metadata": {},
     "output_type": "execute_result"
    }
   ],
   "source": [
    "#Having a look at the shape.\n",
    "df.shape"
   ]
  },
  {
   "cell_type": "code",
   "execution_count": 4,
   "id": "eb9667c3",
   "metadata": {},
   "outputs": [],
   "source": [
    "#let's remove duplicates.\n",
    "df.drop_duplicates(keep = False,inplace = True)"
   ]
  },
  {
   "cell_type": "code",
   "execution_count": 5,
   "id": "951c8ea9",
   "metadata": {},
   "outputs": [
    {
     "data": {
      "text/plain": [
       "(1139, 12)"
      ]
     },
     "execution_count": 5,
     "metadata": {},
     "output_type": "execute_result"
    }
   ],
   "source": [
    "#Having a look at the shape again.\n",
    "df.shape"
   ]
  },
  {
   "cell_type": "markdown",
   "id": "039ee59e",
   "metadata": {},
   "source": [
    "* It means we have 460 duplicate records are there in our dataset. "
   ]
  },
  {
   "cell_type": "code",
   "execution_count": 6,
   "id": "dd712aa8",
   "metadata": {},
   "outputs": [
    {
     "name": "stdout",
     "output_type": "stream",
     "text": [
      "<class 'pandas.core.frame.DataFrame'>\n",
      "Int64Index: 1139 entries, 1 to 1598\n",
      "Data columns (total 12 columns):\n",
      " #   Column                Non-Null Count  Dtype  \n",
      "---  ------                --------------  -----  \n",
      " 0   fixed acidity         1139 non-null   float64\n",
      " 1   volatile acidity      1139 non-null   float64\n",
      " 2   citric acid           1139 non-null   float64\n",
      " 3   residual sugar        1139 non-null   float64\n",
      " 4   chlorides             1139 non-null   float64\n",
      " 5   free sulfur dioxide   1139 non-null   float64\n",
      " 6   total sulfur dioxide  1139 non-null   float64\n",
      " 7   density               1139 non-null   float64\n",
      " 8   pH                    1139 non-null   float64\n",
      " 9   sulphates             1139 non-null   float64\n",
      " 10  alcohol               1139 non-null   float64\n",
      " 11  quality               1139 non-null   int64  \n",
      "dtypes: float64(11), int64(1)\n",
      "memory usage: 115.7 KB\n"
     ]
    }
   ],
   "source": [
    "#Having a look at the datatype.\n",
    "df.info()"
   ]
  },
  {
   "cell_type": "markdown",
   "id": "8e49a825",
   "metadata": {},
   "source": [
    "* So as we can see, all the columns are in numerice format."
   ]
  },
  {
   "cell_type": "code",
   "execution_count": 7,
   "id": "ddb4afc7",
   "metadata": {},
   "outputs": [
    {
     "data": {
      "text/plain": [
       "fixed acidity           0\n",
       "volatile acidity        0\n",
       "citric acid             0\n",
       "residual sugar          0\n",
       "chlorides               0\n",
       "free sulfur dioxide     0\n",
       "total sulfur dioxide    0\n",
       "density                 0\n",
       "pH                      0\n",
       "sulphates               0\n",
       "alcohol                 0\n",
       "quality                 0\n",
       "dtype: int64"
      ]
     },
     "execution_count": 7,
     "metadata": {},
     "output_type": "execute_result"
    }
   ],
   "source": [
    "#Having a look at the missing values.\n",
    "df.isna().sum()"
   ]
  },
  {
   "cell_type": "markdown",
   "id": "d6bbee0e",
   "metadata": {},
   "source": [
    "* It means we don't have any kind of missing values inside our dataset."
   ]
  },
  {
   "cell_type": "code",
   "execution_count": 8,
   "id": "689fa76e",
   "metadata": {},
   "outputs": [
    {
     "data": {
      "text/html": [
       "<div>\n",
       "<style scoped>\n",
       "    .dataframe tbody tr th:only-of-type {\n",
       "        vertical-align: middle;\n",
       "    }\n",
       "\n",
       "    .dataframe tbody tr th {\n",
       "        vertical-align: top;\n",
       "    }\n",
       "\n",
       "    .dataframe thead th {\n",
       "        text-align: right;\n",
       "    }\n",
       "</style>\n",
       "<table border=\"1\" class=\"dataframe\">\n",
       "  <thead>\n",
       "    <tr style=\"text-align: right;\">\n",
       "      <th></th>\n",
       "      <th>fixed acidity</th>\n",
       "      <th>volatile acidity</th>\n",
       "      <th>citric acid</th>\n",
       "      <th>residual sugar</th>\n",
       "      <th>chlorides</th>\n",
       "      <th>free sulfur dioxide</th>\n",
       "      <th>total sulfur dioxide</th>\n",
       "      <th>density</th>\n",
       "      <th>pH</th>\n",
       "      <th>sulphates</th>\n",
       "      <th>alcohol</th>\n",
       "      <th>quality</th>\n",
       "    </tr>\n",
       "  </thead>\n",
       "  <tbody>\n",
       "    <tr>\n",
       "      <th>count</th>\n",
       "      <td>1139.000000</td>\n",
       "      <td>1139.000000</td>\n",
       "      <td>1139.000000</td>\n",
       "      <td>1139.000000</td>\n",
       "      <td>1139.000000</td>\n",
       "      <td>1139.000000</td>\n",
       "      <td>1139.000000</td>\n",
       "      <td>1139.000000</td>\n",
       "      <td>1139.000000</td>\n",
       "      <td>1139.000000</td>\n",
       "      <td>1139.000000</td>\n",
       "      <td>1139.000000</td>\n",
       "    </tr>\n",
       "    <tr>\n",
       "      <th>mean</th>\n",
       "      <td>8.287884</td>\n",
       "      <td>0.531172</td>\n",
       "      <td>0.273477</td>\n",
       "      <td>2.493635</td>\n",
       "      <td>0.088897</td>\n",
       "      <td>15.929763</td>\n",
       "      <td>47.152766</td>\n",
       "      <td>0.996648</td>\n",
       "      <td>3.308903</td>\n",
       "      <td>0.659306</td>\n",
       "      <td>10.441864</td>\n",
       "      <td>5.608428</td>\n",
       "    </tr>\n",
       "    <tr>\n",
       "      <th>std</th>\n",
       "      <td>1.725696</td>\n",
       "      <td>0.188279</td>\n",
       "      <td>0.196370</td>\n",
       "      <td>1.257423</td>\n",
       "      <td>0.052059</td>\n",
       "      <td>10.392575</td>\n",
       "      <td>33.993453</td>\n",
       "      <td>0.001835</td>\n",
       "      <td>0.155179</td>\n",
       "      <td>0.171698</td>\n",
       "      <td>1.099890</td>\n",
       "      <td>0.843334</td>\n",
       "    </tr>\n",
       "    <tr>\n",
       "      <th>min</th>\n",
       "      <td>4.600000</td>\n",
       "      <td>0.160000</td>\n",
       "      <td>0.000000</td>\n",
       "      <td>1.200000</td>\n",
       "      <td>0.034000</td>\n",
       "      <td>1.000000</td>\n",
       "      <td>6.000000</td>\n",
       "      <td>0.990200</td>\n",
       "      <td>2.740000</td>\n",
       "      <td>0.330000</td>\n",
       "      <td>8.400000</td>\n",
       "      <td>3.000000</td>\n",
       "    </tr>\n",
       "    <tr>\n",
       "      <th>25%</th>\n",
       "      <td>7.100000</td>\n",
       "      <td>0.390000</td>\n",
       "      <td>0.095000</td>\n",
       "      <td>1.900000</td>\n",
       "      <td>0.069000</td>\n",
       "      <td>7.000000</td>\n",
       "      <td>22.000000</td>\n",
       "      <td>0.995540</td>\n",
       "      <td>3.210000</td>\n",
       "      <td>0.550000</td>\n",
       "      <td>9.500000</td>\n",
       "      <td>5.000000</td>\n",
       "    </tr>\n",
       "    <tr>\n",
       "      <th>50%</th>\n",
       "      <td>7.900000</td>\n",
       "      <td>0.520000</td>\n",
       "      <td>0.260000</td>\n",
       "      <td>2.200000</td>\n",
       "      <td>0.079000</td>\n",
       "      <td>14.000000</td>\n",
       "      <td>38.000000</td>\n",
       "      <td>0.996660</td>\n",
       "      <td>3.310000</td>\n",
       "      <td>0.620000</td>\n",
       "      <td>10.200000</td>\n",
       "      <td>6.000000</td>\n",
       "    </tr>\n",
       "    <tr>\n",
       "      <th>75%</th>\n",
       "      <td>9.200000</td>\n",
       "      <td>0.645000</td>\n",
       "      <td>0.430000</td>\n",
       "      <td>2.600000</td>\n",
       "      <td>0.091000</td>\n",
       "      <td>21.000000</td>\n",
       "      <td>63.000000</td>\n",
       "      <td>0.997800</td>\n",
       "      <td>3.400000</td>\n",
       "      <td>0.720000</td>\n",
       "      <td>11.200000</td>\n",
       "      <td>6.000000</td>\n",
       "    </tr>\n",
       "    <tr>\n",
       "      <th>max</th>\n",
       "      <td>15.900000</td>\n",
       "      <td>1.580000</td>\n",
       "      <td>1.000000</td>\n",
       "      <td>15.500000</td>\n",
       "      <td>0.611000</td>\n",
       "      <td>72.000000</td>\n",
       "      <td>289.000000</td>\n",
       "      <td>1.003200</td>\n",
       "      <td>4.010000</td>\n",
       "      <td>2.000000</td>\n",
       "      <td>14.900000</td>\n",
       "      <td>8.000000</td>\n",
       "    </tr>\n",
       "  </tbody>\n",
       "</table>\n",
       "</div>"
      ],
      "text/plain": [
       "       fixed acidity  volatile acidity  citric acid  residual sugar  \\\n",
       "count    1139.000000       1139.000000  1139.000000     1139.000000   \n",
       "mean        8.287884          0.531172     0.273477        2.493635   \n",
       "std         1.725696          0.188279     0.196370        1.257423   \n",
       "min         4.600000          0.160000     0.000000        1.200000   \n",
       "25%         7.100000          0.390000     0.095000        1.900000   \n",
       "50%         7.900000          0.520000     0.260000        2.200000   \n",
       "75%         9.200000          0.645000     0.430000        2.600000   \n",
       "max        15.900000          1.580000     1.000000       15.500000   \n",
       "\n",
       "         chlorides  free sulfur dioxide  total sulfur dioxide      density  \\\n",
       "count  1139.000000          1139.000000           1139.000000  1139.000000   \n",
       "mean      0.088897            15.929763             47.152766     0.996648   \n",
       "std       0.052059            10.392575             33.993453     0.001835   \n",
       "min       0.034000             1.000000              6.000000     0.990200   \n",
       "25%       0.069000             7.000000             22.000000     0.995540   \n",
       "50%       0.079000            14.000000             38.000000     0.996660   \n",
       "75%       0.091000            21.000000             63.000000     0.997800   \n",
       "max       0.611000            72.000000            289.000000     1.003200   \n",
       "\n",
       "                pH    sulphates      alcohol      quality  \n",
       "count  1139.000000  1139.000000  1139.000000  1139.000000  \n",
       "mean      3.308903     0.659306    10.441864     5.608428  \n",
       "std       0.155179     0.171698     1.099890     0.843334  \n",
       "min       2.740000     0.330000     8.400000     3.000000  \n",
       "25%       3.210000     0.550000     9.500000     5.000000  \n",
       "50%       3.310000     0.620000    10.200000     6.000000  \n",
       "75%       3.400000     0.720000    11.200000     6.000000  \n",
       "max       4.010000     2.000000    14.900000     8.000000  "
      ]
     },
     "execution_count": 8,
     "metadata": {},
     "output_type": "execute_result"
    }
   ],
   "source": [
    "#Having a look at the aggregation.\n",
    "df.describe()"
   ]
  },
  {
   "cell_type": "markdown",
   "id": "9eb89bb2",
   "metadata": {},
   "source": [
    "# Data Interpretation and Representation."
   ]
  },
  {
   "cell_type": "code",
   "execution_count": 9,
   "id": "84693933",
   "metadata": {},
   "outputs": [
    {
     "data": {
      "text/html": [
       "<div>\n",
       "<style scoped>\n",
       "    .dataframe tbody tr th:only-of-type {\n",
       "        vertical-align: middle;\n",
       "    }\n",
       "\n",
       "    .dataframe tbody tr th {\n",
       "        vertical-align: top;\n",
       "    }\n",
       "\n",
       "    .dataframe thead th {\n",
       "        text-align: right;\n",
       "    }\n",
       "</style>\n",
       "<table border=\"1\" class=\"dataframe\">\n",
       "  <thead>\n",
       "    <tr style=\"text-align: right;\">\n",
       "      <th></th>\n",
       "      <th>fixed acidity</th>\n",
       "      <th>volatile acidity</th>\n",
       "      <th>citric acid</th>\n",
       "      <th>residual sugar</th>\n",
       "      <th>chlorides</th>\n",
       "      <th>free sulfur dioxide</th>\n",
       "      <th>total sulfur dioxide</th>\n",
       "      <th>density</th>\n",
       "      <th>pH</th>\n",
       "      <th>sulphates</th>\n",
       "      <th>alcohol</th>\n",
       "      <th>quality</th>\n",
       "    </tr>\n",
       "  </thead>\n",
       "  <tbody>\n",
       "    <tr>\n",
       "      <th>1</th>\n",
       "      <td>7.8</td>\n",
       "      <td>0.88</td>\n",
       "      <td>0.00</td>\n",
       "      <td>2.6</td>\n",
       "      <td>0.098</td>\n",
       "      <td>25.0</td>\n",
       "      <td>67.0</td>\n",
       "      <td>0.9968</td>\n",
       "      <td>3.20</td>\n",
       "      <td>0.68</td>\n",
       "      <td>9.8</td>\n",
       "      <td>5</td>\n",
       "    </tr>\n",
       "    <tr>\n",
       "      <th>2</th>\n",
       "      <td>7.8</td>\n",
       "      <td>0.76</td>\n",
       "      <td>0.04</td>\n",
       "      <td>2.3</td>\n",
       "      <td>0.092</td>\n",
       "      <td>15.0</td>\n",
       "      <td>54.0</td>\n",
       "      <td>0.9970</td>\n",
       "      <td>3.26</td>\n",
       "      <td>0.65</td>\n",
       "      <td>9.8</td>\n",
       "      <td>5</td>\n",
       "    </tr>\n",
       "    <tr>\n",
       "      <th>3</th>\n",
       "      <td>11.2</td>\n",
       "      <td>0.28</td>\n",
       "      <td>0.56</td>\n",
       "      <td>1.9</td>\n",
       "      <td>0.075</td>\n",
       "      <td>17.0</td>\n",
       "      <td>60.0</td>\n",
       "      <td>0.9980</td>\n",
       "      <td>3.16</td>\n",
       "      <td>0.58</td>\n",
       "      <td>9.8</td>\n",
       "      <td>6</td>\n",
       "    </tr>\n",
       "    <tr>\n",
       "      <th>5</th>\n",
       "      <td>7.4</td>\n",
       "      <td>0.66</td>\n",
       "      <td>0.00</td>\n",
       "      <td>1.8</td>\n",
       "      <td>0.075</td>\n",
       "      <td>13.0</td>\n",
       "      <td>40.0</td>\n",
       "      <td>0.9978</td>\n",
       "      <td>3.51</td>\n",
       "      <td>0.56</td>\n",
       "      <td>9.4</td>\n",
       "      <td>5</td>\n",
       "    </tr>\n",
       "    <tr>\n",
       "      <th>6</th>\n",
       "      <td>7.9</td>\n",
       "      <td>0.60</td>\n",
       "      <td>0.06</td>\n",
       "      <td>1.6</td>\n",
       "      <td>0.069</td>\n",
       "      <td>15.0</td>\n",
       "      <td>59.0</td>\n",
       "      <td>0.9964</td>\n",
       "      <td>3.30</td>\n",
       "      <td>0.46</td>\n",
       "      <td>9.4</td>\n",
       "      <td>5</td>\n",
       "    </tr>\n",
       "  </tbody>\n",
       "</table>\n",
       "</div>"
      ],
      "text/plain": [
       "   fixed acidity  volatile acidity  citric acid  residual sugar  chlorides  \\\n",
       "1            7.8              0.88         0.00             2.6      0.098   \n",
       "2            7.8              0.76         0.04             2.3      0.092   \n",
       "3           11.2              0.28         0.56             1.9      0.075   \n",
       "5            7.4              0.66         0.00             1.8      0.075   \n",
       "6            7.9              0.60         0.06             1.6      0.069   \n",
       "\n",
       "   free sulfur dioxide  total sulfur dioxide  density    pH  sulphates  \\\n",
       "1                 25.0                  67.0   0.9968  3.20       0.68   \n",
       "2                 15.0                  54.0   0.9970  3.26       0.65   \n",
       "3                 17.0                  60.0   0.9980  3.16       0.58   \n",
       "5                 13.0                  40.0   0.9978  3.51       0.56   \n",
       "6                 15.0                  59.0   0.9964  3.30       0.46   \n",
       "\n",
       "   alcohol  quality  \n",
       "1      9.8        5  \n",
       "2      9.8        5  \n",
       "3      9.8        6  \n",
       "5      9.4        5  \n",
       "6      9.4        5  "
      ]
     },
     "execution_count": 9,
     "metadata": {},
     "output_type": "execute_result"
    }
   ],
   "source": [
    "#Having a look at the data first.\n",
    "df.head()"
   ]
  },
  {
   "cell_type": "code",
   "execution_count": 10,
   "id": "524ce941",
   "metadata": {},
   "outputs": [
    {
     "data": {
      "text/plain": [
       "5    480\n",
       "6    442\n",
       "7    138\n",
       "4     53\n",
       "8     16\n",
       "3     10\n",
       "Name: quality, dtype: int64"
      ]
     },
     "execution_count": 10,
     "metadata": {},
     "output_type": "execute_result"
    }
   ],
   "source": [
    "#Having a look at the target column.\n",
    "Quality = df['quality'].value_counts()\n",
    "Quality"
   ]
  },
  {
   "cell_type": "code",
   "execution_count": 11,
   "id": "69d3f7a2",
   "metadata": {},
   "outputs": [
    {
     "data": {
      "image/png": "[encoded data removed]",
      "text/plain": [
       "<Figure size 1152x432 with 1 Axes>"
      ]
     },
     "metadata": {},
     "output_type": "display_data"
    }
   ],
   "source": [
    "#Having a look at the visualization.\n",
    "Quality.plot(kind = 'bar',figsize = (16,6),color = ('salmon','lightblue'))\n",
    "plt.title('Quality Distribution')\n",
    "plt.xlabel('Quality')\n",
    "plt.ylabel('Amount')\n",
    "plt.xticks(rotation= True);"
   ]
  },
  {
   "cell_type": "markdown",
   "id": "636fe29a",
   "metadata": {},
   "source": [
    "* It shows like we have imblance distribution of target column."
   ]
  },
  {
   "cell_type": "code",
   "execution_count": 12,
   "id": "51992456",
   "metadata": {},
   "outputs": [
    {
     "data": {
      "text/plain": [
       "SMOTE()"
      ]
     },
     "execution_count": 12,
     "metadata": {},
     "output_type": "execute_result"
    }
   ],
   "source": [
    "#Importing required library to balance our dataset.\n",
    "from imblearn.over_sampling import SMOTE\n",
    "\n",
    "#Intializing SMOTE\n",
    "ROS= SMOTE()\n",
    "ROS"
   ]
  },
  {
   "cell_type": "code",
   "execution_count": 13,
   "id": "199fe4d2",
   "metadata": {},
   "outputs": [
    {
     "data": {
      "text/html": [
       "<div>\n",
       "<style scoped>\n",
       "    .dataframe tbody tr th:only-of-type {\n",
       "        vertical-align: middle;\n",
       "    }\n",
       "\n",
       "    .dataframe tbody tr th {\n",
       "        vertical-align: top;\n",
       "    }\n",
       "\n",
       "    .dataframe thead th {\n",
       "        text-align: right;\n",
       "    }\n",
       "</style>\n",
       "<table border=\"1\" class=\"dataframe\">\n",
       "  <thead>\n",
       "    <tr style=\"text-align: right;\">\n",
       "      <th></th>\n",
       "      <th>fixed acidity</th>\n",
       "      <th>volatile acidity</th>\n",
       "      <th>citric acid</th>\n",
       "      <th>residual sugar</th>\n",
       "      <th>chlorides</th>\n",
       "      <th>free sulfur dioxide</th>\n",
       "      <th>total sulfur dioxide</th>\n",
       "      <th>density</th>\n",
       "      <th>pH</th>\n",
       "      <th>sulphates</th>\n",
       "      <th>alcohol</th>\n",
       "      <th>quality</th>\n",
       "    </tr>\n",
       "  </thead>\n",
       "  <tbody>\n",
       "    <tr>\n",
       "      <th>1</th>\n",
       "      <td>7.8</td>\n",
       "      <td>0.88</td>\n",
       "      <td>0.00</td>\n",
       "      <td>2.6</td>\n",
       "      <td>0.098</td>\n",
       "      <td>25.0</td>\n",
       "      <td>67.0</td>\n",
       "      <td>0.9968</td>\n",
       "      <td>3.20</td>\n",
       "      <td>0.68</td>\n",
       "      <td>9.8</td>\n",
       "      <td>5</td>\n",
       "    </tr>\n",
       "    <tr>\n",
       "      <th>2</th>\n",
       "      <td>7.8</td>\n",
       "      <td>0.76</td>\n",
       "      <td>0.04</td>\n",
       "      <td>2.3</td>\n",
       "      <td>0.092</td>\n",
       "      <td>15.0</td>\n",
       "      <td>54.0</td>\n",
       "      <td>0.9970</td>\n",
       "      <td>3.26</td>\n",
       "      <td>0.65</td>\n",
       "      <td>9.8</td>\n",
       "      <td>5</td>\n",
       "    </tr>\n",
       "    <tr>\n",
       "      <th>3</th>\n",
       "      <td>11.2</td>\n",
       "      <td>0.28</td>\n",
       "      <td>0.56</td>\n",
       "      <td>1.9</td>\n",
       "      <td>0.075</td>\n",
       "      <td>17.0</td>\n",
       "      <td>60.0</td>\n",
       "      <td>0.9980</td>\n",
       "      <td>3.16</td>\n",
       "      <td>0.58</td>\n",
       "      <td>9.8</td>\n",
       "      <td>6</td>\n",
       "    </tr>\n",
       "    <tr>\n",
       "      <th>5</th>\n",
       "      <td>7.4</td>\n",
       "      <td>0.66</td>\n",
       "      <td>0.00</td>\n",
       "      <td>1.8</td>\n",
       "      <td>0.075</td>\n",
       "      <td>13.0</td>\n",
       "      <td>40.0</td>\n",
       "      <td>0.9978</td>\n",
       "      <td>3.51</td>\n",
       "      <td>0.56</td>\n",
       "      <td>9.4</td>\n",
       "      <td>5</td>\n",
       "    </tr>\n",
       "    <tr>\n",
       "      <th>6</th>\n",
       "      <td>7.9</td>\n",
       "      <td>0.60</td>\n",
       "      <td>0.06</td>\n",
       "      <td>1.6</td>\n",
       "      <td>0.069</td>\n",
       "      <td>15.0</td>\n",
       "      <td>59.0</td>\n",
       "      <td>0.9964</td>\n",
       "      <td>3.30</td>\n",
       "      <td>0.46</td>\n",
       "      <td>9.4</td>\n",
       "      <td>5</td>\n",
       "    </tr>\n",
       "  </tbody>\n",
       "</table>\n",
       "</div>"
      ],
      "text/plain": [
       "   fixed acidity  volatile acidity  citric acid  residual sugar  chlorides  \\\n",
       "1            7.8              0.88         0.00             2.6      0.098   \n",
       "2            7.8              0.76         0.04             2.3      0.092   \n",
       "3           11.2              0.28         0.56             1.9      0.075   \n",
       "5            7.4              0.66         0.00             1.8      0.075   \n",
       "6            7.9              0.60         0.06             1.6      0.069   \n",
       "\n",
       "   free sulfur dioxide  total sulfur dioxide  density    pH  sulphates  \\\n",
       "1                 25.0                  67.0   0.9968  3.20       0.68   \n",
       "2                 15.0                  54.0   0.9970  3.26       0.65   \n",
       "3                 17.0                  60.0   0.9980  3.16       0.58   \n",
       "5                 13.0                  40.0   0.9978  3.51       0.56   \n",
       "6                 15.0                  59.0   0.9964  3.30       0.46   \n",
       "\n",
       "   alcohol  quality  \n",
       "1      9.8        5  \n",
       "2      9.8        5  \n",
       "3      9.8        6  \n",
       "5      9.4        5  \n",
       "6      9.4        5  "
      ]
     },
     "execution_count": 13,
     "metadata": {},
     "output_type": "execute_result"
    }
   ],
   "source": [
    "#Having a look at the dataset now.\n",
    "df.head()"
   ]
  },
  {
   "cell_type": "code",
   "execution_count": 14,
   "id": "51acf813",
   "metadata": {},
   "outputs": [],
   "source": [
    "#let's split dataset first.\n",
    "x = df.drop('quality',axis = 1)\n",
    "y = df['quality']"
   ]
  },
  {
   "cell_type": "code",
   "execution_count": 15,
   "id": "cda3eb32",
   "metadata": {},
   "outputs": [],
   "source": [
    "#Doing the resampling of our dependent and independent variables.\n",
    "x_res,y_res = ROS.fit_resample(x,y)"
   ]
  },
  {
   "cell_type": "code",
   "execution_count": 16,
   "id": "d3adf7b3",
   "metadata": {},
   "outputs": [
    {
     "data": {
      "text/plain": [
       "((2880, 11), (2880,))"
      ]
     },
     "execution_count": 16,
     "metadata": {},
     "output_type": "execute_result"
    }
   ],
   "source": [
    "#Having a look at the shape after resampling.\n",
    "x_res.shape,y_res.shape"
   ]
  },
  {
   "cell_type": "markdown",
   "id": "390cc35e",
   "metadata": {},
   "source": [
    "* So as we can see, now we have equal amount of x and y we have. That means our dataset is now balanced."
   ]
  },
  {
   "cell_type": "code",
   "execution_count": 17,
   "id": "246b326b",
   "metadata": {},
   "outputs": [
    {
     "data": {
      "text/html": [
       "<div>\n",
       "<style scoped>\n",
       "    .dataframe tbody tr th:only-of-type {\n",
       "        vertical-align: middle;\n",
       "    }\n",
       "\n",
       "    .dataframe tbody tr th {\n",
       "        vertical-align: top;\n",
       "    }\n",
       "\n",
       "    .dataframe thead th {\n",
       "        text-align: right;\n",
       "    }\n",
       "</style>\n",
       "<table border=\"1\" class=\"dataframe\">\n",
       "  <thead>\n",
       "    <tr style=\"text-align: right;\">\n",
       "      <th></th>\n",
       "      <th>fixed acidity</th>\n",
       "      <th>volatile acidity</th>\n",
       "      <th>citric acid</th>\n",
       "      <th>residual sugar</th>\n",
       "      <th>chlorides</th>\n",
       "      <th>free sulfur dioxide</th>\n",
       "      <th>total sulfur dioxide</th>\n",
       "      <th>density</th>\n",
       "      <th>pH</th>\n",
       "      <th>sulphates</th>\n",
       "      <th>alcohol</th>\n",
       "      <th>quality</th>\n",
       "    </tr>\n",
       "  </thead>\n",
       "  <tbody>\n",
       "    <tr>\n",
       "      <th>0</th>\n",
       "      <td>7.8</td>\n",
       "      <td>0.88</td>\n",
       "      <td>0.00</td>\n",
       "      <td>2.6</td>\n",
       "      <td>0.098</td>\n",
       "      <td>25.0</td>\n",
       "      <td>67.0</td>\n",
       "      <td>0.9968</td>\n",
       "      <td>3.20</td>\n",
       "      <td>0.68</td>\n",
       "      <td>9.8</td>\n",
       "      <td>5</td>\n",
       "    </tr>\n",
       "    <tr>\n",
       "      <th>1</th>\n",
       "      <td>7.8</td>\n",
       "      <td>0.76</td>\n",
       "      <td>0.04</td>\n",
       "      <td>2.3</td>\n",
       "      <td>0.092</td>\n",
       "      <td>15.0</td>\n",
       "      <td>54.0</td>\n",
       "      <td>0.9970</td>\n",
       "      <td>3.26</td>\n",
       "      <td>0.65</td>\n",
       "      <td>9.8</td>\n",
       "      <td>5</td>\n",
       "    </tr>\n",
       "    <tr>\n",
       "      <th>2</th>\n",
       "      <td>11.2</td>\n",
       "      <td>0.28</td>\n",
       "      <td>0.56</td>\n",
       "      <td>1.9</td>\n",
       "      <td>0.075</td>\n",
       "      <td>17.0</td>\n",
       "      <td>60.0</td>\n",
       "      <td>0.9980</td>\n",
       "      <td>3.16</td>\n",
       "      <td>0.58</td>\n",
       "      <td>9.8</td>\n",
       "      <td>6</td>\n",
       "    </tr>\n",
       "    <tr>\n",
       "      <th>3</th>\n",
       "      <td>7.4</td>\n",
       "      <td>0.66</td>\n",
       "      <td>0.00</td>\n",
       "      <td>1.8</td>\n",
       "      <td>0.075</td>\n",
       "      <td>13.0</td>\n",
       "      <td>40.0</td>\n",
       "      <td>0.9978</td>\n",
       "      <td>3.51</td>\n",
       "      <td>0.56</td>\n",
       "      <td>9.4</td>\n",
       "      <td>5</td>\n",
       "    </tr>\n",
       "    <tr>\n",
       "      <th>4</th>\n",
       "      <td>7.9</td>\n",
       "      <td>0.60</td>\n",
       "      <td>0.06</td>\n",
       "      <td>1.6</td>\n",
       "      <td>0.069</td>\n",
       "      <td>15.0</td>\n",
       "      <td>59.0</td>\n",
       "      <td>0.9964</td>\n",
       "      <td>3.30</td>\n",
       "      <td>0.46</td>\n",
       "      <td>9.4</td>\n",
       "      <td>5</td>\n",
       "    </tr>\n",
       "  </tbody>\n",
       "</table>\n",
       "</div>"
      ],
      "text/plain": [
       "   fixed acidity  volatile acidity  citric acid  residual sugar  chlorides  \\\n",
       "0            7.8              0.88         0.00             2.6      0.098   \n",
       "1            7.8              0.76         0.04             2.3      0.092   \n",
       "2           11.2              0.28         0.56             1.9      0.075   \n",
       "3            7.4              0.66         0.00             1.8      0.075   \n",
       "4            7.9              0.60         0.06             1.6      0.069   \n",
       "\n",
       "   free sulfur dioxide  total sulfur dioxide  density    pH  sulphates  \\\n",
       "0                 25.0                  67.0   0.9968  3.20       0.68   \n",
       "1                 15.0                  54.0   0.9970  3.26       0.65   \n",
       "2                 17.0                  60.0   0.9980  3.16       0.58   \n",
       "3                 13.0                  40.0   0.9978  3.51       0.56   \n",
       "4                 15.0                  59.0   0.9964  3.30       0.46   \n",
       "\n",
       "   alcohol  quality  \n",
       "0      9.8        5  \n",
       "1      9.8        5  \n",
       "2      9.8        6  \n",
       "3      9.4        5  \n",
       "4      9.4        5  "
      ]
     },
     "execution_count": 17,
     "metadata": {},
     "output_type": "execute_result"
    }
   ],
   "source": [
    "#Assign new name as df1.\n",
    "df = x_res\n",
    "\n",
    "#Let's concat the x and y.\n",
    "df[\"quality\"] = y_res\n",
    "\n",
    "#Having a look at the data.\n",
    "df.head()"
   ]
  },
  {
   "cell_type": "code",
   "execution_count": 18,
   "id": "c5f0c404",
   "metadata": {},
   "outputs": [
    {
     "data": {
      "text/plain": [
       "5    480\n",
       "6    480\n",
       "7    480\n",
       "4    480\n",
       "8    480\n",
       "3    480\n",
       "Name: quality, dtype: int64"
      ]
     },
     "execution_count": 18,
     "metadata": {},
     "output_type": "execute_result"
    }
   ],
   "source": [
    "#Having a look at the target column now.\n",
    "Quality = df['quality'].value_counts()\n",
    "Quality"
   ]
  },
  {
   "cell_type": "code",
   "execution_count": 19,
   "id": "6346af8c",
   "metadata": {},
   "outputs": [
    {
     "data": {
      "image/png": "[encoded data removed]",
      "text/plain": [
       "<Figure size 1152x432 with 1 Axes>"
      ]
     },
     "metadata": {},
     "output_type": "display_data"
    }
   ],
   "source": [
    "#Having a look at the visualization.\n",
    "Quality.plot(kind = 'bar',figsize = (16,6),color = ('salmon','lightblue'))\n",
    "plt.title('Quality Distribution')\n",
    "plt.xlabel('Quality')\n",
    "plt.ylabel('Amount')\n",
    "plt.xticks(rotation= True);"
   ]
  },
  {
   "cell_type": "markdown",
   "id": "8e753761",
   "metadata": {},
   "source": [
    "* As we can see, now we have balance distribution in target column.\n"
   ]
  },
  {
   "cell_type": "code",
   "execution_count": 20,
   "id": "12d4048c",
   "metadata": {},
   "outputs": [
    {
     "data": {
      "text/html": [
       "<div>\n",
       "<style scoped>\n",
       "    .dataframe tbody tr th:only-of-type {\n",
       "        vertical-align: middle;\n",
       "    }\n",
       "\n",
       "    .dataframe tbody tr th {\n",
       "        vertical-align: top;\n",
       "    }\n",
       "\n",
       "    .dataframe thead th {\n",
       "        text-align: right;\n",
       "    }\n",
       "</style>\n",
       "<table border=\"1\" class=\"dataframe\">\n",
       "  <thead>\n",
       "    <tr style=\"text-align: right;\">\n",
       "      <th></th>\n",
       "      <th>fixed acidity</th>\n",
       "      <th>volatile acidity</th>\n",
       "      <th>citric acid</th>\n",
       "      <th>residual sugar</th>\n",
       "      <th>chlorides</th>\n",
       "      <th>free sulfur dioxide</th>\n",
       "      <th>total sulfur dioxide</th>\n",
       "      <th>density</th>\n",
       "      <th>pH</th>\n",
       "      <th>sulphates</th>\n",
       "      <th>alcohol</th>\n",
       "      <th>quality</th>\n",
       "    </tr>\n",
       "  </thead>\n",
       "  <tbody>\n",
       "    <tr>\n",
       "      <th>0</th>\n",
       "      <td>7.8</td>\n",
       "      <td>0.88</td>\n",
       "      <td>0.00</td>\n",
       "      <td>2.6</td>\n",
       "      <td>0.098</td>\n",
       "      <td>25.0</td>\n",
       "      <td>67.0</td>\n",
       "      <td>0.9968</td>\n",
       "      <td>3.20</td>\n",
       "      <td>0.68</td>\n",
       "      <td>9.8</td>\n",
       "      <td>5</td>\n",
       "    </tr>\n",
       "    <tr>\n",
       "      <th>1</th>\n",
       "      <td>7.8</td>\n",
       "      <td>0.76</td>\n",
       "      <td>0.04</td>\n",
       "      <td>2.3</td>\n",
       "      <td>0.092</td>\n",
       "      <td>15.0</td>\n",
       "      <td>54.0</td>\n",
       "      <td>0.9970</td>\n",
       "      <td>3.26</td>\n",
       "      <td>0.65</td>\n",
       "      <td>9.8</td>\n",
       "      <td>5</td>\n",
       "    </tr>\n",
       "    <tr>\n",
       "      <th>2</th>\n",
       "      <td>11.2</td>\n",
       "      <td>0.28</td>\n",
       "      <td>0.56</td>\n",
       "      <td>1.9</td>\n",
       "      <td>0.075</td>\n",
       "      <td>17.0</td>\n",
       "      <td>60.0</td>\n",
       "      <td>0.9980</td>\n",
       "      <td>3.16</td>\n",
       "      <td>0.58</td>\n",
       "      <td>9.8</td>\n",
       "      <td>6</td>\n",
       "    </tr>\n",
       "    <tr>\n",
       "      <th>3</th>\n",
       "      <td>7.4</td>\n",
       "      <td>0.66</td>\n",
       "      <td>0.00</td>\n",
       "      <td>1.8</td>\n",
       "      <td>0.075</td>\n",
       "      <td>13.0</td>\n",
       "      <td>40.0</td>\n",
       "      <td>0.9978</td>\n",
       "      <td>3.51</td>\n",
       "      <td>0.56</td>\n",
       "      <td>9.4</td>\n",
       "      <td>5</td>\n",
       "    </tr>\n",
       "    <tr>\n",
       "      <th>4</th>\n",
       "      <td>7.9</td>\n",
       "      <td>0.60</td>\n",
       "      <td>0.06</td>\n",
       "      <td>1.6</td>\n",
       "      <td>0.069</td>\n",
       "      <td>15.0</td>\n",
       "      <td>59.0</td>\n",
       "      <td>0.9964</td>\n",
       "      <td>3.30</td>\n",
       "      <td>0.46</td>\n",
       "      <td>9.4</td>\n",
       "      <td>5</td>\n",
       "    </tr>\n",
       "  </tbody>\n",
       "</table>\n",
       "</div>"
      ],
      "text/plain": [
       "   fixed acidity  volatile acidity  citric acid  residual sugar  chlorides  \\\n",
       "0            7.8              0.88         0.00             2.6      0.098   \n",
       "1            7.8              0.76         0.04             2.3      0.092   \n",
       "2           11.2              0.28         0.56             1.9      0.075   \n",
       "3            7.4              0.66         0.00             1.8      0.075   \n",
       "4            7.9              0.60         0.06             1.6      0.069   \n",
       "\n",
       "   free sulfur dioxide  total sulfur dioxide  density    pH  sulphates  \\\n",
       "0                 25.0                  67.0   0.9968  3.20       0.68   \n",
       "1                 15.0                  54.0   0.9970  3.26       0.65   \n",
       "2                 17.0                  60.0   0.9980  3.16       0.58   \n",
       "3                 13.0                  40.0   0.9978  3.51       0.56   \n",
       "4                 15.0                  59.0   0.9964  3.30       0.46   \n",
       "\n",
       "   alcohol  quality  \n",
       "0      9.8        5  \n",
       "1      9.8        5  \n",
       "2      9.8        6  \n",
       "3      9.4        5  \n",
       "4      9.4        5  "
      ]
     },
     "execution_count": 20,
     "metadata": {},
     "output_type": "execute_result"
    }
   ],
   "source": [
    "#Having a look at the data.\n",
    "df.head()"
   ]
  },
  {
   "cell_type": "code",
   "execution_count": 21,
   "id": "904bea04",
   "metadata": {},
   "outputs": [
    {
     "data": {
      "text/html": [
       "<div>\n",
       "<style scoped>\n",
       "    .dataframe tbody tr th:only-of-type {\n",
       "        vertical-align: middle;\n",
       "    }\n",
       "\n",
       "    .dataframe tbody tr th {\n",
       "        vertical-align: top;\n",
       "    }\n",
       "\n",
       "    .dataframe thead th {\n",
       "        text-align: right;\n",
       "    }\n",
       "</style>\n",
       "<table border=\"1\" class=\"dataframe\">\n",
       "  <thead>\n",
       "    <tr style=\"text-align: right;\">\n",
       "      <th>fixed acidity</th>\n",
       "      <th>4.600000</th>\n",
       "      <th>4.700000</th>\n",
       "      <th>4.761329</th>\n",
       "      <th>4.900000</th>\n",
       "      <th>5.000000</th>\n",
       "      <th>5.003462</th>\n",
       "      <th>5.025902</th>\n",
       "      <th>5.044535</th>\n",
       "      <th>5.062781</th>\n",
       "      <th>5.068155</th>\n",
       "      <th>...</th>\n",
       "      <th>13.500000</th>\n",
       "      <th>13.800000</th>\n",
       "      <th>14.000000</th>\n",
       "      <th>14.300000</th>\n",
       "      <th>14.618505</th>\n",
       "      <th>14.701264</th>\n",
       "      <th>14.903657</th>\n",
       "      <th>15.445056</th>\n",
       "      <th>15.600000</th>\n",
       "      <th>15.900000</th>\n",
       "    </tr>\n",
       "    <tr>\n",
       "      <th>quality</th>\n",
       "      <th></th>\n",
       "      <th></th>\n",
       "      <th></th>\n",
       "      <th></th>\n",
       "      <th></th>\n",
       "      <th></th>\n",
       "      <th></th>\n",
       "      <th></th>\n",
       "      <th></th>\n",
       "      <th></th>\n",
       "      <th></th>\n",
       "      <th></th>\n",
       "      <th></th>\n",
       "      <th></th>\n",
       "      <th></th>\n",
       "      <th></th>\n",
       "      <th></th>\n",
       "      <th></th>\n",
       "      <th></th>\n",
       "      <th></th>\n",
       "      <th></th>\n",
       "    </tr>\n",
       "  </thead>\n",
       "  <tbody>\n",
       "    <tr>\n",
       "      <th>3</th>\n",
       "      <td>0</td>\n",
       "      <td>0</td>\n",
       "      <td>0</td>\n",
       "      <td>0</td>\n",
       "      <td>0</td>\n",
       "      <td>0</td>\n",
       "      <td>0</td>\n",
       "      <td>0</td>\n",
       "      <td>0</td>\n",
       "      <td>0</td>\n",
       "      <td>...</td>\n",
       "      <td>0</td>\n",
       "      <td>0</td>\n",
       "      <td>0</td>\n",
       "      <td>0</td>\n",
       "      <td>0</td>\n",
       "      <td>0</td>\n",
       "      <td>0</td>\n",
       "      <td>0</td>\n",
       "      <td>0</td>\n",
       "      <td>0</td>\n",
       "    </tr>\n",
       "    <tr>\n",
       "      <th>4</th>\n",
       "      <td>1</td>\n",
       "      <td>0</td>\n",
       "      <td>1</td>\n",
       "      <td>0</td>\n",
       "      <td>1</td>\n",
       "      <td>1</td>\n",
       "      <td>0</td>\n",
       "      <td>0</td>\n",
       "      <td>0</td>\n",
       "      <td>0</td>\n",
       "      <td>...</td>\n",
       "      <td>0</td>\n",
       "      <td>0</td>\n",
       "      <td>0</td>\n",
       "      <td>0</td>\n",
       "      <td>0</td>\n",
       "      <td>0</td>\n",
       "      <td>0</td>\n",
       "      <td>0</td>\n",
       "      <td>0</td>\n",
       "      <td>0</td>\n",
       "    </tr>\n",
       "    <tr>\n",
       "      <th>5</th>\n",
       "      <td>0</td>\n",
       "      <td>0</td>\n",
       "      <td>0</td>\n",
       "      <td>0</td>\n",
       "      <td>1</td>\n",
       "      <td>0</td>\n",
       "      <td>0</td>\n",
       "      <td>0</td>\n",
       "      <td>0</td>\n",
       "      <td>0</td>\n",
       "      <td>...</td>\n",
       "      <td>1</td>\n",
       "      <td>0</td>\n",
       "      <td>0</td>\n",
       "      <td>0</td>\n",
       "      <td>0</td>\n",
       "      <td>0</td>\n",
       "      <td>0</td>\n",
       "      <td>0</td>\n",
       "      <td>1</td>\n",
       "      <td>1</td>\n",
       "    </tr>\n",
       "    <tr>\n",
       "      <th>6</th>\n",
       "      <td>0</td>\n",
       "      <td>1</td>\n",
       "      <td>0</td>\n",
       "      <td>0</td>\n",
       "      <td>3</td>\n",
       "      <td>0</td>\n",
       "      <td>0</td>\n",
       "      <td>0</td>\n",
       "      <td>0</td>\n",
       "      <td>0</td>\n",
       "      <td>...</td>\n",
       "      <td>0</td>\n",
       "      <td>1</td>\n",
       "      <td>1</td>\n",
       "      <td>1</td>\n",
       "      <td>0</td>\n",
       "      <td>0</td>\n",
       "      <td>0</td>\n",
       "      <td>0</td>\n",
       "      <td>0</td>\n",
       "      <td>0</td>\n",
       "    </tr>\n",
       "    <tr>\n",
       "      <th>7</th>\n",
       "      <td>0</td>\n",
       "      <td>0</td>\n",
       "      <td>0</td>\n",
       "      <td>1</td>\n",
       "      <td>0</td>\n",
       "      <td>0</td>\n",
       "      <td>0</td>\n",
       "      <td>0</td>\n",
       "      <td>0</td>\n",
       "      <td>0</td>\n",
       "      <td>...</td>\n",
       "      <td>0</td>\n",
       "      <td>0</td>\n",
       "      <td>0</td>\n",
       "      <td>0</td>\n",
       "      <td>1</td>\n",
       "      <td>1</td>\n",
       "      <td>1</td>\n",
       "      <td>1</td>\n",
       "      <td>1</td>\n",
       "      <td>0</td>\n",
       "    </tr>\n",
       "    <tr>\n",
       "      <th>8</th>\n",
       "      <td>0</td>\n",
       "      <td>0</td>\n",
       "      <td>0</td>\n",
       "      <td>0</td>\n",
       "      <td>1</td>\n",
       "      <td>0</td>\n",
       "      <td>1</td>\n",
       "      <td>1</td>\n",
       "      <td>1</td>\n",
       "      <td>1</td>\n",
       "      <td>...</td>\n",
       "      <td>0</td>\n",
       "      <td>0</td>\n",
       "      <td>0</td>\n",
       "      <td>0</td>\n",
       "      <td>0</td>\n",
       "      <td>0</td>\n",
       "      <td>0</td>\n",
       "      <td>0</td>\n",
       "      <td>0</td>\n",
       "      <td>0</td>\n",
       "    </tr>\n",
       "  </tbody>\n",
       "</table>\n",
       "<p>6 rows × 1804 columns</p>\n",
       "</div>"
      ],
      "text/plain": [
       "fixed acidity  4.600000   4.700000   4.761329   4.900000   5.000000   \\\n",
       "quality                                                                \n",
       "3                      0          0          0          0          0   \n",
       "4                      1          0          1          0          1   \n",
       "5                      0          0          0          0          1   \n",
       "6                      0          1          0          0          3   \n",
       "7                      0          0          0          1          0   \n",
       "8                      0          0          0          0          1   \n",
       "\n",
       "fixed acidity  5.003462   5.025902   5.044535   5.062781   5.068155   ...  \\\n",
       "quality                                                               ...   \n",
       "3                      0          0          0          0          0  ...   \n",
       "4                      1          0          0          0          0  ...   \n",
       "5                      0          0          0          0          0  ...   \n",
       "6                      0          0          0          0          0  ...   \n",
       "7                      0          0          0          0          0  ...   \n",
       "8                      0          1          1          1          1  ...   \n",
       "\n",
       "fixed acidity  13.500000  13.800000  14.000000  14.300000  14.618505  \\\n",
       "quality                                                                \n",
       "3                      0          0          0          0          0   \n",
       "4                      0          0          0          0          0   \n",
       "5                      1          0          0          0          0   \n",
       "6                      0          1          1          1          0   \n",
       "7                      0          0          0          0          1   \n",
       "8                      0          0          0          0          0   \n",
       "\n",
       "fixed acidity  14.701264  14.903657  15.445056  15.600000  15.900000  \n",
       "quality                                                               \n",
       "3                      0          0          0          0          0  \n",
       "4                      0          0          0          0          0  \n",
       "5                      0          0          0          1          1  \n",
       "6                      0          0          0          0          0  \n",
       "7                      1          1          1          1          0  \n",
       "8                      0          0          0          0          0  \n",
       "\n",
       "[6 rows x 1804 columns]"
      ]
     },
     "execution_count": 21,
     "metadata": {},
     "output_type": "execute_result"
    }
   ],
   "source": [
    "#Having a look at the relation between Quality and fixed acidity.\n",
    "quality_fixed_acidity_relation = pd.crosstab(df['quality'],df['fixed acidity'])\n",
    "quality_fixed_acidity_relation"
   ]
  },
  {
   "cell_type": "code",
   "execution_count": 22,
   "id": "23138257",
   "metadata": {},
   "outputs": [
    {
     "data": {
      "image/png": "[encoded data removed]",
      "text/plain": [
       "<Figure size 1152x432 with 1 Axes>"
      ]
     },
     "metadata": {},
     "output_type": "display_data"
    }
   ],
   "source": [
    "#Having a look at the visualization of Quality with Fixed acidity .\n",
    "plt.figure(figsize = (16,6))\n",
    "sns.lineplot(x = df['quality'],y = df['fixed acidity'],color = ('lightblue'))\n",
    "plt.title('Relation between Quality and Fixed acidity');"
   ]
  },
  {
   "cell_type": "markdown",
   "id": "3ba7bec7",
   "metadata": {},
   "source": [
    "* So from this graph we can say that the fixed acidity will vary for different quality of wines."
   ]
  },
  {
   "cell_type": "code",
   "execution_count": 23,
   "id": "3ef57ab2",
   "metadata": {},
   "outputs": [
    {
     "data": {
      "text/html": [
       "<div>\n",
       "<style scoped>\n",
       "    .dataframe tbody tr th:only-of-type {\n",
       "        vertical-align: middle;\n",
       "    }\n",
       "\n",
       "    .dataframe tbody tr th {\n",
       "        vertical-align: top;\n",
       "    }\n",
       "\n",
       "    .dataframe thead th {\n",
       "        text-align: right;\n",
       "    }\n",
       "</style>\n",
       "<table border=\"1\" class=\"dataframe\">\n",
       "  <thead>\n",
       "    <tr style=\"text-align: right;\">\n",
       "      <th></th>\n",
       "      <th>fixed acidity</th>\n",
       "      <th>volatile acidity</th>\n",
       "      <th>citric acid</th>\n",
       "      <th>residual sugar</th>\n",
       "      <th>chlorides</th>\n",
       "      <th>free sulfur dioxide</th>\n",
       "      <th>total sulfur dioxide</th>\n",
       "      <th>density</th>\n",
       "      <th>pH</th>\n",
       "      <th>sulphates</th>\n",
       "      <th>alcohol</th>\n",
       "      <th>quality</th>\n",
       "    </tr>\n",
       "  </thead>\n",
       "  <tbody>\n",
       "    <tr>\n",
       "      <th>0</th>\n",
       "      <td>7.8</td>\n",
       "      <td>0.88</td>\n",
       "      <td>0.00</td>\n",
       "      <td>2.6</td>\n",
       "      <td>0.098</td>\n",
       "      <td>25.0</td>\n",
       "      <td>67.0</td>\n",
       "      <td>0.9968</td>\n",
       "      <td>3.20</td>\n",
       "      <td>0.68</td>\n",
       "      <td>9.8</td>\n",
       "      <td>5</td>\n",
       "    </tr>\n",
       "    <tr>\n",
       "      <th>1</th>\n",
       "      <td>7.8</td>\n",
       "      <td>0.76</td>\n",
       "      <td>0.04</td>\n",
       "      <td>2.3</td>\n",
       "      <td>0.092</td>\n",
       "      <td>15.0</td>\n",
       "      <td>54.0</td>\n",
       "      <td>0.9970</td>\n",
       "      <td>3.26</td>\n",
       "      <td>0.65</td>\n",
       "      <td>9.8</td>\n",
       "      <td>5</td>\n",
       "    </tr>\n",
       "    <tr>\n",
       "      <th>2</th>\n",
       "      <td>11.2</td>\n",
       "      <td>0.28</td>\n",
       "      <td>0.56</td>\n",
       "      <td>1.9</td>\n",
       "      <td>0.075</td>\n",
       "      <td>17.0</td>\n",
       "      <td>60.0</td>\n",
       "      <td>0.9980</td>\n",
       "      <td>3.16</td>\n",
       "      <td>0.58</td>\n",
       "      <td>9.8</td>\n",
       "      <td>6</td>\n",
       "    </tr>\n",
       "    <tr>\n",
       "      <th>3</th>\n",
       "      <td>7.4</td>\n",
       "      <td>0.66</td>\n",
       "      <td>0.00</td>\n",
       "      <td>1.8</td>\n",
       "      <td>0.075</td>\n",
       "      <td>13.0</td>\n",
       "      <td>40.0</td>\n",
       "      <td>0.9978</td>\n",
       "      <td>3.51</td>\n",
       "      <td>0.56</td>\n",
       "      <td>9.4</td>\n",
       "      <td>5</td>\n",
       "    </tr>\n",
       "    <tr>\n",
       "      <th>4</th>\n",
       "      <td>7.9</td>\n",
       "      <td>0.60</td>\n",
       "      <td>0.06</td>\n",
       "      <td>1.6</td>\n",
       "      <td>0.069</td>\n",
       "      <td>15.0</td>\n",
       "      <td>59.0</td>\n",
       "      <td>0.9964</td>\n",
       "      <td>3.30</td>\n",
       "      <td>0.46</td>\n",
       "      <td>9.4</td>\n",
       "      <td>5</td>\n",
       "    </tr>\n",
       "  </tbody>\n",
       "</table>\n",
       "</div>"
      ],
      "text/plain": [
       "   fixed acidity  volatile acidity  citric acid  residual sugar  chlorides  \\\n",
       "0            7.8              0.88         0.00             2.6      0.098   \n",
       "1            7.8              0.76         0.04             2.3      0.092   \n",
       "2           11.2              0.28         0.56             1.9      0.075   \n",
       "3            7.4              0.66         0.00             1.8      0.075   \n",
       "4            7.9              0.60         0.06             1.6      0.069   \n",
       "\n",
       "   free sulfur dioxide  total sulfur dioxide  density    pH  sulphates  \\\n",
       "0                 25.0                  67.0   0.9968  3.20       0.68   \n",
       "1                 15.0                  54.0   0.9970  3.26       0.65   \n",
       "2                 17.0                  60.0   0.9980  3.16       0.58   \n",
       "3                 13.0                  40.0   0.9978  3.51       0.56   \n",
       "4                 15.0                  59.0   0.9964  3.30       0.46   \n",
       "\n",
       "   alcohol  quality  \n",
       "0      9.8        5  \n",
       "1      9.8        5  \n",
       "2      9.8        6  \n",
       "3      9.4        5  \n",
       "4      9.4        5  "
      ]
     },
     "execution_count": 23,
     "metadata": {},
     "output_type": "execute_result"
    }
   ],
   "source": [
    "#Having a look at the dataset.\n",
    "df.head()"
   ]
  },
  {
   "cell_type": "code",
   "execution_count": 24,
   "id": "eb9f2559",
   "metadata": {},
   "outputs": [
    {
     "data": {
      "text/html": [
       "<div>\n",
       "<style scoped>\n",
       "    .dataframe tbody tr th:only-of-type {\n",
       "        vertical-align: middle;\n",
       "    }\n",
       "\n",
       "    .dataframe tbody tr th {\n",
       "        vertical-align: top;\n",
       "    }\n",
       "\n",
       "    .dataframe thead th {\n",
       "        text-align: right;\n",
       "    }\n",
       "</style>\n",
       "<table border=\"1\" class=\"dataframe\">\n",
       "  <thead>\n",
       "    <tr style=\"text-align: right;\">\n",
       "      <th>volatile acidity</th>\n",
       "      <th>0.160000</th>\n",
       "      <th>0.180000</th>\n",
       "      <th>0.190000</th>\n",
       "      <th>0.200000</th>\n",
       "      <th>0.201104</th>\n",
       "      <th>0.210000</th>\n",
       "      <th>0.217355</th>\n",
       "      <th>0.220000</th>\n",
       "      <th>0.227759</th>\n",
       "      <th>0.230000</th>\n",
       "      <th>...</th>\n",
       "      <th>1.529772</th>\n",
       "      <th>1.531158</th>\n",
       "      <th>1.533064</th>\n",
       "      <th>1.544586</th>\n",
       "      <th>1.559756</th>\n",
       "      <th>1.569883</th>\n",
       "      <th>1.573119</th>\n",
       "      <th>1.576036</th>\n",
       "      <th>1.579881</th>\n",
       "      <th>1.580000</th>\n",
       "    </tr>\n",
       "    <tr>\n",
       "      <th>quality</th>\n",
       "      <th></th>\n",
       "      <th></th>\n",
       "      <th></th>\n",
       "      <th></th>\n",
       "      <th></th>\n",
       "      <th></th>\n",
       "      <th></th>\n",
       "      <th></th>\n",
       "      <th></th>\n",
       "      <th></th>\n",
       "      <th></th>\n",
       "      <th></th>\n",
       "      <th></th>\n",
       "      <th></th>\n",
       "      <th></th>\n",
       "      <th></th>\n",
       "      <th></th>\n",
       "      <th></th>\n",
       "      <th></th>\n",
       "      <th></th>\n",
       "      <th></th>\n",
       "    </tr>\n",
       "  </thead>\n",
       "  <tbody>\n",
       "    <tr>\n",
       "      <th>3</th>\n",
       "      <td>0</td>\n",
       "      <td>0</td>\n",
       "      <td>0</td>\n",
       "      <td>0</td>\n",
       "      <td>0</td>\n",
       "      <td>0</td>\n",
       "      <td>0</td>\n",
       "      <td>0</td>\n",
       "      <td>0</td>\n",
       "      <td>0</td>\n",
       "      <td>...</td>\n",
       "      <td>1</td>\n",
       "      <td>1</td>\n",
       "      <td>1</td>\n",
       "      <td>1</td>\n",
       "      <td>1</td>\n",
       "      <td>1</td>\n",
       "      <td>1</td>\n",
       "      <td>1</td>\n",
       "      <td>1</td>\n",
       "      <td>1</td>\n",
       "    </tr>\n",
       "    <tr>\n",
       "      <th>4</th>\n",
       "      <td>0</td>\n",
       "      <td>0</td>\n",
       "      <td>0</td>\n",
       "      <td>0</td>\n",
       "      <td>0</td>\n",
       "      <td>0</td>\n",
       "      <td>0</td>\n",
       "      <td>0</td>\n",
       "      <td>0</td>\n",
       "      <td>1</td>\n",
       "      <td>...</td>\n",
       "      <td>0</td>\n",
       "      <td>0</td>\n",
       "      <td>0</td>\n",
       "      <td>0</td>\n",
       "      <td>0</td>\n",
       "      <td>0</td>\n",
       "      <td>0</td>\n",
       "      <td>0</td>\n",
       "      <td>0</td>\n",
       "      <td>0</td>\n",
       "    </tr>\n",
       "    <tr>\n",
       "      <th>5</th>\n",
       "      <td>0</td>\n",
       "      <td>2</td>\n",
       "      <td>1</td>\n",
       "      <td>1</td>\n",
       "      <td>0</td>\n",
       "      <td>1</td>\n",
       "      <td>0</td>\n",
       "      <td>0</td>\n",
       "      <td>0</td>\n",
       "      <td>1</td>\n",
       "      <td>...</td>\n",
       "      <td>0</td>\n",
       "      <td>0</td>\n",
       "      <td>0</td>\n",
       "      <td>0</td>\n",
       "      <td>0</td>\n",
       "      <td>0</td>\n",
       "      <td>0</td>\n",
       "      <td>0</td>\n",
       "      <td>0</td>\n",
       "      <td>0</td>\n",
       "    </tr>\n",
       "    <tr>\n",
       "      <th>6</th>\n",
       "      <td>2</td>\n",
       "      <td>2</td>\n",
       "      <td>1</td>\n",
       "      <td>1</td>\n",
       "      <td>0</td>\n",
       "      <td>2</td>\n",
       "      <td>0</td>\n",
       "      <td>3</td>\n",
       "      <td>0</td>\n",
       "      <td>3</td>\n",
       "      <td>...</td>\n",
       "      <td>0</td>\n",
       "      <td>0</td>\n",
       "      <td>0</td>\n",
       "      <td>0</td>\n",
       "      <td>0</td>\n",
       "      <td>0</td>\n",
       "      <td>0</td>\n",
       "      <td>0</td>\n",
       "      <td>0</td>\n",
       "      <td>0</td>\n",
       "    </tr>\n",
       "    <tr>\n",
       "      <th>7</th>\n",
       "      <td>0</td>\n",
       "      <td>1</td>\n",
       "      <td>0</td>\n",
       "      <td>1</td>\n",
       "      <td>1</td>\n",
       "      <td>1</td>\n",
       "      <td>1</td>\n",
       "      <td>1</td>\n",
       "      <td>1</td>\n",
       "      <td>0</td>\n",
       "      <td>...</td>\n",
       "      <td>0</td>\n",
       "      <td>0</td>\n",
       "      <td>0</td>\n",
       "      <td>0</td>\n",
       "      <td>0</td>\n",
       "      <td>0</td>\n",
       "      <td>0</td>\n",
       "      <td>0</td>\n",
       "      <td>0</td>\n",
       "      <td>0</td>\n",
       "    </tr>\n",
       "    <tr>\n",
       "      <th>8</th>\n",
       "      <td>0</td>\n",
       "      <td>0</td>\n",
       "      <td>0</td>\n",
       "      <td>0</td>\n",
       "      <td>0</td>\n",
       "      <td>0</td>\n",
       "      <td>0</td>\n",
       "      <td>0</td>\n",
       "      <td>0</td>\n",
       "      <td>0</td>\n",
       "      <td>...</td>\n",
       "      <td>0</td>\n",
       "      <td>0</td>\n",
       "      <td>0</td>\n",
       "      <td>0</td>\n",
       "      <td>0</td>\n",
       "      <td>0</td>\n",
       "      <td>0</td>\n",
       "      <td>0</td>\n",
       "      <td>0</td>\n",
       "      <td>0</td>\n",
       "    </tr>\n",
       "  </tbody>\n",
       "</table>\n",
       "<p>6 rows × 1863 columns</p>\n",
       "</div>"
      ],
      "text/plain": [
       "volatile acidity  0.160000  0.180000  0.190000  0.200000  0.201104  0.210000  \\\n",
       "quality                                                                        \n",
       "3                        0         0         0         0         0         0   \n",
       "4                        0         0         0         0         0         0   \n",
       "5                        0         2         1         1         0         1   \n",
       "6                        2         2         1         1         0         2   \n",
       "7                        0         1         0         1         1         1   \n",
       "8                        0         0         0         0         0         0   \n",
       "\n",
       "volatile acidity  0.217355  0.220000  0.227759  0.230000  ...  1.529772  \\\n",
       "quality                                                   ...             \n",
       "3                        0         0         0         0  ...         1   \n",
       "4                        0         0         0         1  ...         0   \n",
       "5                        0         0         0         1  ...         0   \n",
       "6                        0         3         0         3  ...         0   \n",
       "7                        1         1         1         0  ...         0   \n",
       "8                        0         0         0         0  ...         0   \n",
       "\n",
       "volatile acidity  1.531158  1.533064  1.544586  1.559756  1.569883  1.573119  \\\n",
       "quality                                                                        \n",
       "3                        1         1         1         1         1         1   \n",
       "4                        0         0         0         0         0         0   \n",
       "5                        0         0         0         0         0         0   \n",
       "6                        0         0         0         0         0         0   \n",
       "7                        0         0         0         0         0         0   \n",
       "8                        0         0         0         0         0         0   \n",
       "\n",
       "volatile acidity  1.576036  1.579881  1.580000  \n",
       "quality                                         \n",
       "3                        1         1         1  \n",
       "4                        0         0         0  \n",
       "5                        0         0         0  \n",
       "6                        0         0         0  \n",
       "7                        0         0         0  \n",
       "8                        0         0         0  \n",
       "\n",
       "[6 rows x 1863 columns]"
      ]
     },
     "execution_count": 24,
     "metadata": {},
     "output_type": "execute_result"
    }
   ],
   "source": [
    "#Having a look at the relation between Quality and volatile acidity.\n",
    "quality_fixed_acidity_relation = pd.crosstab(df['quality'],df['volatile acidity'])\n",
    "quality_fixed_acidity_relation"
   ]
  },
  {
   "cell_type": "code",
   "execution_count": 25,
   "id": "26be4b8c",
   "metadata": {},
   "outputs": [
    {
     "data": {
      "image/png": "[encoded data removed]",
      "text/plain": [
       "<Figure size 1152x432 with 1 Axes>"
      ]
     },
     "metadata": {},
     "output_type": "display_data"
    }
   ],
   "source": [
    "#Having a look at the visualization of Quality and volatile acidity.\n",
    "plt.figure(figsize = (16,6))\n",
    "sns.lineplot(x = df['quality'],y = df['volatile acidity'],color = ('salmon'))\n",
    "plt.title('Relation between Quality and volatile acidity');"
   ]
  },
  {
   "cell_type": "markdown",
   "id": "5becf5a8",
   "metadata": {},
   "source": [
    "* So from this graph we can state that:\n",
    "    1. Higher Quality of wine has lower amount of volatile acidity.\n",
    "    2. Lower Quality of wine has higher amount of volatile acidity.\n",
    "    \n",
    "    \n",
    "* Based on this we cas say that as quality increases volatile acidity decreases."
   ]
  },
  {
   "cell_type": "code",
   "execution_count": 26,
   "id": "9dbd96df",
   "metadata": {},
   "outputs": [
    {
     "data": {
      "image/png": "[encoded data removed]",
      "text/plain": [
       "<Figure size 1152x432 with 1 Axes>"
      ]
     },
     "metadata": {},
     "output_type": "display_data"
    }
   ],
   "source": [
    "#Having a look at the visualization of Quality and alcohol.\n",
    "plt.figure(figsize = (16,6))\n",
    "sns.lineplot(x = df['quality'],y = df['alcohol'],color = ('lightblue'))\n",
    "plt.title('Relation between Quality and alcohol');"
   ]
  },
  {
   "cell_type": "markdown",
   "id": "849cc504",
   "metadata": {},
   "source": [
    "* So from this graph we can state that:\n",
    "        1) Higher Quality of wine has the Higher amount of alcohol involve.\n",
    "        2) Lower quality of wine has Lower amount of alcohol involve.\n",
    "        \n",
    "* Based on this we cas say that as Quality increases alcohol quantity also increases.        "
   ]
  },
  {
   "cell_type": "code",
   "execution_count": 27,
   "id": "2ebdff4f",
   "metadata": {},
   "outputs": [
    {
     "data": {
      "image/png": "[encoded data removed]",
      "text/plain": [
       "<Figure size 1152x432 with 1 Axes>"
      ]
     },
     "metadata": {},
     "output_type": "display_data"
    }
   ],
   "source": [
    "#Having a look at the visualization of Quality and pH.\n",
    "plt.figure(figsize = (16,6))\n",
    "sns.lineplot(x = df['quality'],y = df['pH'],color = ('salmon'))\n",
    "plt.title('Relation between Quality and pH');"
   ]
  },
  {
   "cell_type": "markdown",
   "id": "84bc1521",
   "metadata": {},
   "source": [
    "* So from this graph we can state that:\n",
    "        1) Higher Quality of wine has the Lower PH Value.\n",
    "        2) Lower quality of wine has Higher PH Value.\n",
    "        \n",
    "* Based on this we cas say that as Quality increases PH value decreases.  "
   ]
  },
  {
   "cell_type": "code",
   "execution_count": 28,
   "id": "26ed72eb",
   "metadata": {},
   "outputs": [
    {
     "data": {
      "text/html": [
       "<div>\n",
       "<style scoped>\n",
       "    .dataframe tbody tr th:only-of-type {\n",
       "        vertical-align: middle;\n",
       "    }\n",
       "\n",
       "    .dataframe tbody tr th {\n",
       "        vertical-align: top;\n",
       "    }\n",
       "\n",
       "    .dataframe thead th {\n",
       "        text-align: right;\n",
       "    }\n",
       "</style>\n",
       "<table border=\"1\" class=\"dataframe\">\n",
       "  <thead>\n",
       "    <tr style=\"text-align: right;\">\n",
       "      <th></th>\n",
       "      <th>fixed acidity</th>\n",
       "      <th>volatile acidity</th>\n",
       "      <th>citric acid</th>\n",
       "      <th>residual sugar</th>\n",
       "      <th>chlorides</th>\n",
       "      <th>free sulfur dioxide</th>\n",
       "      <th>total sulfur dioxide</th>\n",
       "      <th>density</th>\n",
       "      <th>pH</th>\n",
       "      <th>sulphates</th>\n",
       "      <th>alcohol</th>\n",
       "      <th>quality</th>\n",
       "    </tr>\n",
       "  </thead>\n",
       "  <tbody>\n",
       "    <tr>\n",
       "      <th>0</th>\n",
       "      <td>7.8</td>\n",
       "      <td>0.88</td>\n",
       "      <td>0.00</td>\n",
       "      <td>2.6</td>\n",
       "      <td>0.098</td>\n",
       "      <td>25.0</td>\n",
       "      <td>67.0</td>\n",
       "      <td>0.9968</td>\n",
       "      <td>3.20</td>\n",
       "      <td>0.68</td>\n",
       "      <td>9.8</td>\n",
       "      <td>5</td>\n",
       "    </tr>\n",
       "    <tr>\n",
       "      <th>1</th>\n",
       "      <td>7.8</td>\n",
       "      <td>0.76</td>\n",
       "      <td>0.04</td>\n",
       "      <td>2.3</td>\n",
       "      <td>0.092</td>\n",
       "      <td>15.0</td>\n",
       "      <td>54.0</td>\n",
       "      <td>0.9970</td>\n",
       "      <td>3.26</td>\n",
       "      <td>0.65</td>\n",
       "      <td>9.8</td>\n",
       "      <td>5</td>\n",
       "    </tr>\n",
       "    <tr>\n",
       "      <th>2</th>\n",
       "      <td>11.2</td>\n",
       "      <td>0.28</td>\n",
       "      <td>0.56</td>\n",
       "      <td>1.9</td>\n",
       "      <td>0.075</td>\n",
       "      <td>17.0</td>\n",
       "      <td>60.0</td>\n",
       "      <td>0.9980</td>\n",
       "      <td>3.16</td>\n",
       "      <td>0.58</td>\n",
       "      <td>9.8</td>\n",
       "      <td>6</td>\n",
       "    </tr>\n",
       "    <tr>\n",
       "      <th>3</th>\n",
       "      <td>7.4</td>\n",
       "      <td>0.66</td>\n",
       "      <td>0.00</td>\n",
       "      <td>1.8</td>\n",
       "      <td>0.075</td>\n",
       "      <td>13.0</td>\n",
       "      <td>40.0</td>\n",
       "      <td>0.9978</td>\n",
       "      <td>3.51</td>\n",
       "      <td>0.56</td>\n",
       "      <td>9.4</td>\n",
       "      <td>5</td>\n",
       "    </tr>\n",
       "    <tr>\n",
       "      <th>4</th>\n",
       "      <td>7.9</td>\n",
       "      <td>0.60</td>\n",
       "      <td>0.06</td>\n",
       "      <td>1.6</td>\n",
       "      <td>0.069</td>\n",
       "      <td>15.0</td>\n",
       "      <td>59.0</td>\n",
       "      <td>0.9964</td>\n",
       "      <td>3.30</td>\n",
       "      <td>0.46</td>\n",
       "      <td>9.4</td>\n",
       "      <td>5</td>\n",
       "    </tr>\n",
       "  </tbody>\n",
       "</table>\n",
       "</div>"
      ],
      "text/plain": [
       "   fixed acidity  volatile acidity  citric acid  residual sugar  chlorides  \\\n",
       "0            7.8              0.88         0.00             2.6      0.098   \n",
       "1            7.8              0.76         0.04             2.3      0.092   \n",
       "2           11.2              0.28         0.56             1.9      0.075   \n",
       "3            7.4              0.66         0.00             1.8      0.075   \n",
       "4            7.9              0.60         0.06             1.6      0.069   \n",
       "\n",
       "   free sulfur dioxide  total sulfur dioxide  density    pH  sulphates  \\\n",
       "0                 25.0                  67.0   0.9968  3.20       0.68   \n",
       "1                 15.0                  54.0   0.9970  3.26       0.65   \n",
       "2                 17.0                  60.0   0.9980  3.16       0.58   \n",
       "3                 13.0                  40.0   0.9978  3.51       0.56   \n",
       "4                 15.0                  59.0   0.9964  3.30       0.46   \n",
       "\n",
       "   alcohol  quality  \n",
       "0      9.8        5  \n",
       "1      9.8        5  \n",
       "2      9.8        6  \n",
       "3      9.4        5  \n",
       "4      9.4        5  "
      ]
     },
     "execution_count": 28,
     "metadata": {},
     "output_type": "execute_result"
    }
   ],
   "source": [
    "#Having a look at the data now.\n",
    "df.head()"
   ]
  },
  {
   "cell_type": "code",
   "execution_count": 29,
   "id": "6c450aed",
   "metadata": {},
   "outputs": [
    {
     "data": {
      "image/png": "[encoded data removed]",
      "text/plain": [
       "<Figure size 1152x432 with 1 Axes>"
      ]
     },
     "metadata": {},
     "output_type": "display_data"
    }
   ],
   "source": [
    "#Having a look at the visualization of Quality and density.\n",
    "plt.figure(figsize = (16,6))\n",
    "sns.lineplot(x = df['quality'],y = df['density'],color = ('lightblue'))\n",
    "plt.title('Relation between Quality and density');"
   ]
  },
  {
   "cell_type": "markdown",
   "id": "f40a9f4d",
   "metadata": {},
   "source": [
    "* So from this graph we can state that:\n",
    "        1) Higher Quality of wine has the Lower Density Value.\n",
    "        2) Lower quality of wine has Density PH Value.\n",
    "        \n",
    "* Based on this we cas say that as Quality increases Density value will decreases.  "
   ]
  },
  {
   "cell_type": "code",
   "execution_count": 30,
   "id": "5153e11b",
   "metadata": {},
   "outputs": [
    {
     "data": {
      "image/png": "[encoded data removed]",
      "text/plain": [
       "<Figure size 1152x432 with 1 Axes>"
      ]
     },
     "metadata": {},
     "output_type": "display_data"
    }
   ],
   "source": [
    "#Having a look at the visualization of Quality and residual sugar.\n",
    "plt.figure(figsize = (16,6))\n",
    "sns.lineplot(x = df['quality'],y = df['residual sugar'],color = ('salmon'))\n",
    "plt.title('Relation between Quality and residual sugar');"
   ]
  },
  {
   "cell_type": "code",
   "execution_count": 31,
   "id": "bd58801c",
   "metadata": {},
   "outputs": [
    {
     "data": {
      "image/png": "[encoded data removed]",
      "text/plain": [
       "<Figure size 1152x432 with 1 Axes>"
      ]
     },
     "metadata": {},
     "output_type": "display_data"
    }
   ],
   "source": [
    "#Having a look at the visualization of Quality and free sulfur dioxide.\n",
    "plt.figure(figsize = (16,6))\n",
    "sns.lineplot(x = df['quality'],y = df['free sulfur dioxide'],color = ('lightblue'))\n",
    "plt.title('Relation between Quality and free sulfur dioxide');"
   ]
  },
  {
   "cell_type": "code",
   "execution_count": 32,
   "id": "e86d2adb",
   "metadata": {},
   "outputs": [
    {
     "data": {
      "text/plain": [
       "Text(0.5, 1.0, 'Relation between Quality and sulphates')"
      ]
     },
     "execution_count": 32,
     "metadata": {},
     "output_type": "execute_result"
    },
    {
     "data": {
      "image/png": "[encoded data removed]",
      "text/plain": [
       "<Figure size 1152x432 with 1 Axes>"
      ]
     },
     "metadata": {},
     "output_type": "display_data"
    }
   ],
   "source": [
    "#Having a look at the visualization of Quality and sulphates.\n",
    "plt.figure(figsize = (16,6))\n",
    "sns.lineplot(x = df['quality'],y = df['sulphates'],color = ('salmon'))\n",
    "plt.title('Relation between Quality and sulphates')"
   ]
  },
  {
   "cell_type": "markdown",
   "id": "c8760132",
   "metadata": {},
   "source": [
    "* So from this graph we can state that:\n",
    "        1) Higher Quality of wine has the Higher amount of sulphates inside the wine.\n",
    "        2) Lower quality of wine has Lower amount of sulphates inside the wine.\n",
    "        \n",
    "* Based on this we cas say that as Quality increases amount of sulphates inside the wine increases.  "
   ]
  },
  {
   "cell_type": "markdown",
   "id": "eff6a790",
   "metadata": {},
   "source": [
    "# Data Preprocessing"
   ]
  },
  {
   "cell_type": "code",
   "execution_count": 33,
   "id": "1009a430",
   "metadata": {},
   "outputs": [
    {
     "data": {
      "text/html": [
       "<div>\n",
       "<style scoped>\n",
       "    .dataframe tbody tr th:only-of-type {\n",
       "        vertical-align: middle;\n",
       "    }\n",
       "\n",
       "    .dataframe tbody tr th {\n",
       "        vertical-align: top;\n",
       "    }\n",
       "\n",
       "    .dataframe thead th {\n",
       "        text-align: right;\n",
       "    }\n",
       "</style>\n",
       "<table border=\"1\" class=\"dataframe\">\n",
       "  <thead>\n",
       "    <tr style=\"text-align: right;\">\n",
       "      <th></th>\n",
       "      <th>fixed acidity</th>\n",
       "      <th>volatile acidity</th>\n",
       "      <th>citric acid</th>\n",
       "      <th>residual sugar</th>\n",
       "      <th>chlorides</th>\n",
       "      <th>free sulfur dioxide</th>\n",
       "      <th>total sulfur dioxide</th>\n",
       "      <th>density</th>\n",
       "      <th>pH</th>\n",
       "      <th>sulphates</th>\n",
       "      <th>alcohol</th>\n",
       "      <th>quality</th>\n",
       "    </tr>\n",
       "  </thead>\n",
       "  <tbody>\n",
       "    <tr>\n",
       "      <th>0</th>\n",
       "      <td>7.8</td>\n",
       "      <td>0.88</td>\n",
       "      <td>0.00</td>\n",
       "      <td>2.6</td>\n",
       "      <td>0.098</td>\n",
       "      <td>25.0</td>\n",
       "      <td>67.0</td>\n",
       "      <td>0.9968</td>\n",
       "      <td>3.20</td>\n",
       "      <td>0.68</td>\n",
       "      <td>9.8</td>\n",
       "      <td>5</td>\n",
       "    </tr>\n",
       "    <tr>\n",
       "      <th>1</th>\n",
       "      <td>7.8</td>\n",
       "      <td>0.76</td>\n",
       "      <td>0.04</td>\n",
       "      <td>2.3</td>\n",
       "      <td>0.092</td>\n",
       "      <td>15.0</td>\n",
       "      <td>54.0</td>\n",
       "      <td>0.9970</td>\n",
       "      <td>3.26</td>\n",
       "      <td>0.65</td>\n",
       "      <td>9.8</td>\n",
       "      <td>5</td>\n",
       "    </tr>\n",
       "    <tr>\n",
       "      <th>2</th>\n",
       "      <td>11.2</td>\n",
       "      <td>0.28</td>\n",
       "      <td>0.56</td>\n",
       "      <td>1.9</td>\n",
       "      <td>0.075</td>\n",
       "      <td>17.0</td>\n",
       "      <td>60.0</td>\n",
       "      <td>0.9980</td>\n",
       "      <td>3.16</td>\n",
       "      <td>0.58</td>\n",
       "      <td>9.8</td>\n",
       "      <td>6</td>\n",
       "    </tr>\n",
       "    <tr>\n",
       "      <th>3</th>\n",
       "      <td>7.4</td>\n",
       "      <td>0.66</td>\n",
       "      <td>0.00</td>\n",
       "      <td>1.8</td>\n",
       "      <td>0.075</td>\n",
       "      <td>13.0</td>\n",
       "      <td>40.0</td>\n",
       "      <td>0.9978</td>\n",
       "      <td>3.51</td>\n",
       "      <td>0.56</td>\n",
       "      <td>9.4</td>\n",
       "      <td>5</td>\n",
       "    </tr>\n",
       "    <tr>\n",
       "      <th>4</th>\n",
       "      <td>7.9</td>\n",
       "      <td>0.60</td>\n",
       "      <td>0.06</td>\n",
       "      <td>1.6</td>\n",
       "      <td>0.069</td>\n",
       "      <td>15.0</td>\n",
       "      <td>59.0</td>\n",
       "      <td>0.9964</td>\n",
       "      <td>3.30</td>\n",
       "      <td>0.46</td>\n",
       "      <td>9.4</td>\n",
       "      <td>5</td>\n",
       "    </tr>\n",
       "  </tbody>\n",
       "</table>\n",
       "</div>"
      ],
      "text/plain": [
       "   fixed acidity  volatile acidity  citric acid  residual sugar  chlorides  \\\n",
       "0            7.8              0.88         0.00             2.6      0.098   \n",
       "1            7.8              0.76         0.04             2.3      0.092   \n",
       "2           11.2              0.28         0.56             1.9      0.075   \n",
       "3            7.4              0.66         0.00             1.8      0.075   \n",
       "4            7.9              0.60         0.06             1.6      0.069   \n",
       "\n",
       "   free sulfur dioxide  total sulfur dioxide  density    pH  sulphates  \\\n",
       "0                 25.0                  67.0   0.9968  3.20       0.68   \n",
       "1                 15.0                  54.0   0.9970  3.26       0.65   \n",
       "2                 17.0                  60.0   0.9980  3.16       0.58   \n",
       "3                 13.0                  40.0   0.9978  3.51       0.56   \n",
       "4                 15.0                  59.0   0.9964  3.30       0.46   \n",
       "\n",
       "   alcohol  quality  \n",
       "0      9.8        5  \n",
       "1      9.8        5  \n",
       "2      9.8        6  \n",
       "3      9.4        5  \n",
       "4      9.4        5  "
      ]
     },
     "execution_count": 33,
     "metadata": {},
     "output_type": "execute_result"
    }
   ],
   "source": [
    "df.head()"
   ]
  },
  {
   "cell_type": "code",
   "execution_count": 34,
   "id": "11f6fe17",
   "metadata": {},
   "outputs": [
    {
     "data": {
      "image/png": "[encoded data removed]",
      "text/plain": [
       "<Figure size 1152x432 with 1 Axes>"
      ]
     },
     "metadata": {},
     "output_type": "display_data"
    }
   ],
   "source": [
    "#Having a look at the outliers.\n",
    "df.boxplot(figsize = (16,6))\n",
    "plt.title('Outliers')\n",
    "plt.xlabel('Column Names')\n",
    "plt.ylabel('Amount')\n",
    "plt.xticks(rotation = 45);"
   ]
  },
  {
   "cell_type": "markdown",
   "id": "f10e648e",
   "metadata": {},
   "source": [
    "* It shows we have outliers in our dataset."
   ]
  },
  {
   "cell_type": "code",
   "execution_count": 35,
   "id": "eaad7930",
   "metadata": {},
   "outputs": [
    {
     "data": {
      "image/png": "[encoded data removed]",
      "text/plain": [
       "<Figure size 864x576 with 2 Axes>"
      ]
     },
     "metadata": {},
     "output_type": "display_data"
    }
   ],
   "source": [
    "#Having a look at the relation using correlation matrix.\n",
    "plt.figure(figsize = (12,8))\n",
    "sns.heatmap(df.corr('spearman'),\n",
    "            annot= True,\n",
    "            linewidths= '0.5',\n",
    "            fmt = '0.2f',\n",
    "            cmap = 'BuGn');"
   ]
  },
  {
   "cell_type": "markdown",
   "id": "24a79ab8",
   "metadata": {},
   "source": [
    "* Here we can see:\n",
    "\n",
    "    1) Higher the positive values shows the higher the positive correlation.\n",
    "    \n",
    "    2) Higher the negative values shows the higher the negative correlation. \n",
    "    \n",
    "    3) Values near zero shows no relation."
   ]
  },
  {
   "cell_type": "code",
   "execution_count": 36,
   "id": "1b3d72df",
   "metadata": {},
   "outputs": [
    {
     "data": {
      "text/html": [
       "<div>\n",
       "<style scoped>\n",
       "    .dataframe tbody tr th:only-of-type {\n",
       "        vertical-align: middle;\n",
       "    }\n",
       "\n",
       "    .dataframe tbody tr th {\n",
       "        vertical-align: top;\n",
       "    }\n",
       "\n",
       "    .dataframe thead th {\n",
       "        text-align: right;\n",
       "    }\n",
       "</style>\n",
       "<table border=\"1\" class=\"dataframe\">\n",
       "  <thead>\n",
       "    <tr style=\"text-align: right;\">\n",
       "      <th></th>\n",
       "      <th>fixed acidity</th>\n",
       "      <th>volatile acidity</th>\n",
       "      <th>citric acid</th>\n",
       "      <th>residual sugar</th>\n",
       "      <th>chlorides</th>\n",
       "      <th>free sulfur dioxide</th>\n",
       "      <th>total sulfur dioxide</th>\n",
       "      <th>density</th>\n",
       "      <th>pH</th>\n",
       "      <th>sulphates</th>\n",
       "      <th>alcohol</th>\n",
       "      <th>quality</th>\n",
       "    </tr>\n",
       "  </thead>\n",
       "  <tbody>\n",
       "    <tr>\n",
       "      <th>0</th>\n",
       "      <td>7.8</td>\n",
       "      <td>0.88</td>\n",
       "      <td>0.00</td>\n",
       "      <td>2.6</td>\n",
       "      <td>0.098</td>\n",
       "      <td>25.0</td>\n",
       "      <td>67.0</td>\n",
       "      <td>0.9968</td>\n",
       "      <td>3.20</td>\n",
       "      <td>0.68</td>\n",
       "      <td>9.8</td>\n",
       "      <td>5</td>\n",
       "    </tr>\n",
       "    <tr>\n",
       "      <th>1</th>\n",
       "      <td>7.8</td>\n",
       "      <td>0.76</td>\n",
       "      <td>0.04</td>\n",
       "      <td>2.3</td>\n",
       "      <td>0.092</td>\n",
       "      <td>15.0</td>\n",
       "      <td>54.0</td>\n",
       "      <td>0.9970</td>\n",
       "      <td>3.26</td>\n",
       "      <td>0.65</td>\n",
       "      <td>9.8</td>\n",
       "      <td>5</td>\n",
       "    </tr>\n",
       "    <tr>\n",
       "      <th>2</th>\n",
       "      <td>11.2</td>\n",
       "      <td>0.28</td>\n",
       "      <td>0.56</td>\n",
       "      <td>1.9</td>\n",
       "      <td>0.075</td>\n",
       "      <td>17.0</td>\n",
       "      <td>60.0</td>\n",
       "      <td>0.9980</td>\n",
       "      <td>3.16</td>\n",
       "      <td>0.58</td>\n",
       "      <td>9.8</td>\n",
       "      <td>6</td>\n",
       "    </tr>\n",
       "    <tr>\n",
       "      <th>3</th>\n",
       "      <td>7.4</td>\n",
       "      <td>0.66</td>\n",
       "      <td>0.00</td>\n",
       "      <td>1.8</td>\n",
       "      <td>0.075</td>\n",
       "      <td>13.0</td>\n",
       "      <td>40.0</td>\n",
       "      <td>0.9978</td>\n",
       "      <td>3.51</td>\n",
       "      <td>0.56</td>\n",
       "      <td>9.4</td>\n",
       "      <td>5</td>\n",
       "    </tr>\n",
       "    <tr>\n",
       "      <th>4</th>\n",
       "      <td>7.9</td>\n",
       "      <td>0.60</td>\n",
       "      <td>0.06</td>\n",
       "      <td>1.6</td>\n",
       "      <td>0.069</td>\n",
       "      <td>15.0</td>\n",
       "      <td>59.0</td>\n",
       "      <td>0.9964</td>\n",
       "      <td>3.30</td>\n",
       "      <td>0.46</td>\n",
       "      <td>9.4</td>\n",
       "      <td>5</td>\n",
       "    </tr>\n",
       "  </tbody>\n",
       "</table>\n",
       "</div>"
      ],
      "text/plain": [
       "   fixed acidity  volatile acidity  citric acid  residual sugar  chlorides  \\\n",
       "0            7.8              0.88         0.00             2.6      0.098   \n",
       "1            7.8              0.76         0.04             2.3      0.092   \n",
       "2           11.2              0.28         0.56             1.9      0.075   \n",
       "3            7.4              0.66         0.00             1.8      0.075   \n",
       "4            7.9              0.60         0.06             1.6      0.069   \n",
       "\n",
       "   free sulfur dioxide  total sulfur dioxide  density    pH  sulphates  \\\n",
       "0                 25.0                  67.0   0.9968  3.20       0.68   \n",
       "1                 15.0                  54.0   0.9970  3.26       0.65   \n",
       "2                 17.0                  60.0   0.9980  3.16       0.58   \n",
       "3                 13.0                  40.0   0.9978  3.51       0.56   \n",
       "4                 15.0                  59.0   0.9964  3.30       0.46   \n",
       "\n",
       "   alcohol  quality  \n",
       "0      9.8        5  \n",
       "1      9.8        5  \n",
       "2      9.8        6  \n",
       "3      9.4        5  \n",
       "4      9.4        5  "
      ]
     },
     "execution_count": 36,
     "metadata": {},
     "output_type": "execute_result"
    }
   ],
   "source": [
    "#Having a look at the data.\n",
    "df.head()"
   ]
  },
  {
   "cell_type": "code",
   "execution_count": 37,
   "id": "37fb30f0",
   "metadata": {},
   "outputs": [],
   "source": [
    "#Let's remove the values which shows no relation with target col.\n",
    "df.drop('residual sugar',axis = 1,inplace = True)"
   ]
  },
  {
   "cell_type": "code",
   "execution_count": 38,
   "id": "3568afbe",
   "metadata": {},
   "outputs": [
    {
     "data": {
      "text/html": [
       "<div>\n",
       "<style scoped>\n",
       "    .dataframe tbody tr th:only-of-type {\n",
       "        vertical-align: middle;\n",
       "    }\n",
       "\n",
       "    .dataframe tbody tr th {\n",
       "        vertical-align: top;\n",
       "    }\n",
       "\n",
       "    .dataframe thead th {\n",
       "        text-align: right;\n",
       "    }\n",
       "</style>\n",
       "<table border=\"1\" class=\"dataframe\">\n",
       "  <thead>\n",
       "    <tr style=\"text-align: right;\">\n",
       "      <th></th>\n",
       "      <th>fixed acidity</th>\n",
       "      <th>volatile acidity</th>\n",
       "      <th>citric acid</th>\n",
       "      <th>chlorides</th>\n",
       "      <th>free sulfur dioxide</th>\n",
       "      <th>total sulfur dioxide</th>\n",
       "      <th>density</th>\n",
       "      <th>pH</th>\n",
       "      <th>sulphates</th>\n",
       "      <th>alcohol</th>\n",
       "      <th>quality</th>\n",
       "    </tr>\n",
       "  </thead>\n",
       "  <tbody>\n",
       "    <tr>\n",
       "      <th>0</th>\n",
       "      <td>7.8</td>\n",
       "      <td>0.88</td>\n",
       "      <td>0.00</td>\n",
       "      <td>0.098</td>\n",
       "      <td>25.0</td>\n",
       "      <td>67.0</td>\n",
       "      <td>0.9968</td>\n",
       "      <td>3.20</td>\n",
       "      <td>0.68</td>\n",
       "      <td>9.8</td>\n",
       "      <td>5</td>\n",
       "    </tr>\n",
       "    <tr>\n",
       "      <th>1</th>\n",
       "      <td>7.8</td>\n",
       "      <td>0.76</td>\n",
       "      <td>0.04</td>\n",
       "      <td>0.092</td>\n",
       "      <td>15.0</td>\n",
       "      <td>54.0</td>\n",
       "      <td>0.9970</td>\n",
       "      <td>3.26</td>\n",
       "      <td>0.65</td>\n",
       "      <td>9.8</td>\n",
       "      <td>5</td>\n",
       "    </tr>\n",
       "    <tr>\n",
       "      <th>2</th>\n",
       "      <td>11.2</td>\n",
       "      <td>0.28</td>\n",
       "      <td>0.56</td>\n",
       "      <td>0.075</td>\n",
       "      <td>17.0</td>\n",
       "      <td>60.0</td>\n",
       "      <td>0.9980</td>\n",
       "      <td>3.16</td>\n",
       "      <td>0.58</td>\n",
       "      <td>9.8</td>\n",
       "      <td>6</td>\n",
       "    </tr>\n",
       "    <tr>\n",
       "      <th>3</th>\n",
       "      <td>7.4</td>\n",
       "      <td>0.66</td>\n",
       "      <td>0.00</td>\n",
       "      <td>0.075</td>\n",
       "      <td>13.0</td>\n",
       "      <td>40.0</td>\n",
       "      <td>0.9978</td>\n",
       "      <td>3.51</td>\n",
       "      <td>0.56</td>\n",
       "      <td>9.4</td>\n",
       "      <td>5</td>\n",
       "    </tr>\n",
       "    <tr>\n",
       "      <th>4</th>\n",
       "      <td>7.9</td>\n",
       "      <td>0.60</td>\n",
       "      <td>0.06</td>\n",
       "      <td>0.069</td>\n",
       "      <td>15.0</td>\n",
       "      <td>59.0</td>\n",
       "      <td>0.9964</td>\n",
       "      <td>3.30</td>\n",
       "      <td>0.46</td>\n",
       "      <td>9.4</td>\n",
       "      <td>5</td>\n",
       "    </tr>\n",
       "  </tbody>\n",
       "</table>\n",
       "</div>"
      ],
      "text/plain": [
       "   fixed acidity  volatile acidity  citric acid  chlorides  \\\n",
       "0            7.8              0.88         0.00      0.098   \n",
       "1            7.8              0.76         0.04      0.092   \n",
       "2           11.2              0.28         0.56      0.075   \n",
       "3            7.4              0.66         0.00      0.075   \n",
       "4            7.9              0.60         0.06      0.069   \n",
       "\n",
       "   free sulfur dioxide  total sulfur dioxide  density    pH  sulphates  \\\n",
       "0                 25.0                  67.0   0.9968  3.20       0.68   \n",
       "1                 15.0                  54.0   0.9970  3.26       0.65   \n",
       "2                 17.0                  60.0   0.9980  3.16       0.58   \n",
       "3                 13.0                  40.0   0.9978  3.51       0.56   \n",
       "4                 15.0                  59.0   0.9964  3.30       0.46   \n",
       "\n",
       "   alcohol  quality  \n",
       "0      9.8        5  \n",
       "1      9.8        5  \n",
       "2      9.8        6  \n",
       "3      9.4        5  \n",
       "4      9.4        5  "
      ]
     },
     "execution_count": 38,
     "metadata": {},
     "output_type": "execute_result"
    }
   ],
   "source": [
    "#Having a look at the dataset now.\n",
    "df.head()"
   ]
  },
  {
   "cell_type": "markdown",
   "id": "93b836e2",
   "metadata": {},
   "source": [
    "* As we can see, residual sugar column is removed from our dataset."
   ]
  },
  {
   "cell_type": "markdown",
   "id": "1fbdbeb8",
   "metadata": {},
   "source": [
    "# Model Selection"
   ]
  },
  {
   "cell_type": "code",
   "execution_count": 39,
   "id": "edf7cf3d",
   "metadata": {},
   "outputs": [],
   "source": [
    "#Importing Required libraries.\n",
    "from sklearn.linear_model import LogisticRegression\n",
    "from sklearn.ensemble import RandomForestClassifier,AdaBoostClassifier,GradientBoostingClassifier\n",
    "from sklearn.neighbors import KNeighborsClassifier\n",
    "\n",
    "from sklearn.model_selection import train_test_split,cross_val_score,RandomizedSearchCV,GridSearchCV\n",
    "from sklearn.metrics import confusion_matrix,precision_score,recall_score,classification_report,plot_roc_curve"
   ]
  },
  {
   "cell_type": "code",
   "execution_count": 40,
   "id": "3a056514",
   "metadata": {},
   "outputs": [],
   "source": [
    "#let's split dependent and independent variable.\n",
    "x = df.drop('quality',axis = 1)\n",
    "y = df['quality']"
   ]
  },
  {
   "cell_type": "code",
   "execution_count": 41,
   "id": "44fb3d28",
   "metadata": {},
   "outputs": [],
   "source": [
    "#Split the data into train and test.\n",
    "x_train,x_test,y_train,y_test = train_test_split(x,y,test_size = 0.20,random_state= 123)"
   ]
  },
  {
   "cell_type": "code",
   "execution_count": 42,
   "id": "15420674",
   "metadata": {},
   "outputs": [
    {
     "name": "stdout",
     "output_type": "stream",
     "text": [
      "x_train :  (2304, 10)\n",
      "x_test :  (576, 10)\n",
      "y_train :  (2304,)\n",
      "y_test :  (576,)\n"
     ]
    }
   ],
   "source": [
    "#Having a look at the shape of train and test.\n",
    "print(\"x_train : \",x_train.shape)\n",
    "print(\"x_test : \",x_test.shape)\n",
    "print(\"y_train : \",y_train.shape)\n",
    "print(\"y_test : \",y_test.shape)"
   ]
  },
  {
   "cell_type": "markdown",
   "id": "16cabbfa",
   "metadata": {},
   "source": [
    "# Model Evaluation"
   ]
  },
  {
   "cell_type": "code",
   "execution_count": 43,
   "id": "39985e7d",
   "metadata": {},
   "outputs": [
    {
     "data": {
      "text/plain": [
       "{'logistic Regression': LogisticRegression(solver='liblinear'),\n",
       " 'Random Forest': RandomForestClassifier(),\n",
       " 'Adaboost': AdaBoostClassifier(),\n",
       " 'GradientBoost': GradientBoostingClassifier(),\n",
       " 'KNN': KNeighborsClassifier()}"
      ]
     },
     "execution_count": 43,
     "metadata": {},
     "output_type": "execute_result"
    }
   ],
   "source": [
    "#Selecting Models.\n",
    "models = {\"logistic Regression\" : LogisticRegression(solver = \"liblinear\"),\n",
    "          \"Random Forest\" : RandomForestClassifier(n_estimators = 100),\n",
    "          \"Adaboost\" : AdaBoostClassifier(),\n",
    "          \"GradientBoost\": GradientBoostingClassifier(),\n",
    "          \"KNN\" : KNeighborsClassifier()}\n",
    "\n",
    "models"
   ]
  },
  {
   "cell_type": "code",
   "execution_count": 44,
   "id": "1b198f49",
   "metadata": {},
   "outputs": [],
   "source": [
    "#Here fit the train and test data inside model and finding score.\n",
    "def fit_and_score(models,x_train,x_test,y_train,y_test):\n",
    "    \n",
    "    np.random.seed(42)\n",
    "    \n",
    "    model_scores = {}\n",
    "    \n",
    "    for name, model in models.items():\n",
    "        \n",
    "        model.fit(x_train,y_train)\n",
    "        \n",
    "        model_scores[name] = model.score(x_test,y_test)\n",
    "        \n",
    "    return model_scores        "
   ]
  },
  {
   "cell_type": "code",
   "execution_count": 45,
   "id": "b6b7b995",
   "metadata": {},
   "outputs": [
    {
     "data": {
      "text/plain": [
       "{'logistic Regression': 0.5625,\n",
       " 'Random Forest': 0.8472222222222222,\n",
       " 'Adaboost': 0.3333333333333333,\n",
       " 'GradientBoost': 0.8229166666666666,\n",
       " 'KNN': 0.6440972222222222}"
      ]
     },
     "execution_count": 45,
     "metadata": {},
     "output_type": "execute_result"
    }
   ],
   "source": [
    "#Having a look at which model is performing well for given dataset.\n",
    "fit_and_score = fit_and_score(models = models,\n",
    "              x_train = x_train,\n",
    "              x_test = x_test,\n",
    "              y_train = y_train,\n",
    "              y_test = y_test)\n",
    "\n",
    "fit_and_score"
   ]
  },
  {
   "cell_type": "markdown",
   "id": "4df5ebd5",
   "metadata": {},
   "source": [
    "* As we can see Random Forest Classifier is performing pretty well on given dataset as compare to other models."
   ]
  },
  {
   "cell_type": "code",
   "execution_count": 46,
   "id": "ef7c8d7c",
   "metadata": {},
   "outputs": [],
   "source": [
    "#fiting model score inside dataframe.\n",
    "fit_and_score = pd.DataFrame(fit_and_score, index = [\"Accuracy\"])"
   ]
  },
  {
   "cell_type": "code",
   "execution_count": 47,
   "id": "06385d4c",
   "metadata": {},
   "outputs": [
    {
     "data": {
      "image/png": "[encoded data removed]",
      "text/plain": [
       "<Figure size 1080x720 with 1 Axes>"
      ]
     },
     "metadata": {},
     "output_type": "display_data"
    }
   ],
   "source": [
    "#Visualizing model score.\n",
    "fit_and_score.T.plot(kind = \"bar\", figsize = (15,10), color = [\"salmon\"])\n",
    "plt.title(\"fit_and_score\")\n",
    "plt.xlabel(\"Models\")\n",
    "plt.ylabel(\"Amount\")\n",
    "plt.xticks(rotation = 0);"
   ]
  },
  {
   "cell_type": "markdown",
   "id": "85b8ca38",
   "metadata": {},
   "source": [
    "## Hyperparameter Tuning using RandomizedSearchCV\n",
    "\n",
    "we're going to tune:\n",
    "\n",
    "* Randomforestclassifier()\n",
    "* logisticRegression()\n",
    "\n",
    "... using RandomizedSearchCV"
   ]
  },
  {
   "cell_type": "code",
   "execution_count": 48,
   "id": "b0d6494b",
   "metadata": {},
   "outputs": [],
   "source": [
    "#Creating Hyperparameter Grid for logistic Regression.\n",
    "log_reg = {\"C\" : np.logspace(-4,4,20),\n",
    "           \"solver\" : [\"liblinear\"]}\n",
    "\n",
    "#Creating Hyperparameter Grid for Random Forest.\n",
    "ran_forest = {\"n_estimators\" : np.arange(1,1000,50),\n",
    "           \"max_depth\"    : [None,3,5,20],\n",
    "           \"min_samples_leaf\" : np.arange(2,20,2),\n",
    "           \"min_samples_split\" : np.arange(1,20,2)}"
   ]
  },
  {
   "cell_type": "code",
   "execution_count": 49,
   "id": "14fa2512",
   "metadata": {},
   "outputs": [],
   "source": [
    "#Here we are doing Hyperparameter Tuning with the help of RandomizedSearchCV.\n",
    "ran_cv_log = RandomizedSearchCV(RandomForestClassifier(n_estimators=100),\n",
    "                                param_distributions = ran_forest,\n",
    "                                cv = 5,\n",
    "                                n_iter = 100,\n",
    "                                verbose = True)"
   ]
  },
  {
   "cell_type": "code",
   "execution_count": 50,
   "id": "510ff767",
   "metadata": {},
   "outputs": [
    {
     "name": "stdout",
     "output_type": "stream",
     "text": [
      "Fitting 5 folds for each of 100 candidates, totalling 500 fits\n"
     ]
    },
    {
     "name": "stderr",
     "output_type": "stream",
     "text": [
      "C:\\Users\\PRAJUBED\\Anaconda3\\lib\\site-packages\\sklearn\\model_selection\\_validation.py:372: FitFailedWarning: \n",
      "40 fits failed out of a total of 500.\n",
      "The score on these train-test partitions for these parameters will be set to nan.\n",
      "If these failures are not expected, you can try to debug them by setting error_score='raise'.\n",
      "\n",
      "Below are more details about the failures:\n",
      "--------------------------------------------------------------------------------\n",
      "40 fits failed with the following error:\n",
      "Traceback (most recent call last):\n",
      "  File \"C:\\Users\\PRAJUBED\\Anaconda3\\lib\\site-packages\\sklearn\\model_selection\\_validation.py\", line 680, in _fit_and_score\n",
      "    estimator.fit(X_train, y_train, **fit_params)\n",
      "  File \"C:\\Users\\PRAJUBED\\Anaconda3\\lib\\site-packages\\sklearn\\ensemble\\_forest.py\", line 450, in fit\n",
      "    trees = Parallel(\n",
      "  File \"C:\\Users\\PRAJUBED\\Anaconda3\\lib\\site-packages\\joblib\\parallel.py\", line 1043, in __call__\n",
      "    if self.dispatch_one_batch(iterator):\n",
      "  File \"C:\\Users\\PRAJUBED\\Anaconda3\\lib\\site-packages\\joblib\\parallel.py\", line 861, in dispatch_one_batch\n",
      "    self._dispatch(tasks)\n",
      "  File \"C:\\Users\\PRAJUBED\\Anaconda3\\lib\\site-packages\\joblib\\parallel.py\", line 779, in _dispatch\n",
      "    job = self._backend.apply_async(batch, callback=cb)\n",
      "  File \"C:\\Users\\PRAJUBED\\Anaconda3\\lib\\site-packages\\joblib\\_parallel_backends.py\", line 208, in apply_async\n",
      "    result = ImmediateResult(func)\n",
      "  File \"C:\\Users\\PRAJUBED\\Anaconda3\\lib\\site-packages\\joblib\\_parallel_backends.py\", line 572, in __init__\n",
      "    self.results = batch()\n",
      "  File \"C:\\Users\\PRAJUBED\\Anaconda3\\lib\\site-packages\\joblib\\parallel.py\", line 262, in __call__\n",
      "    return [func(*args, **kwargs)\n",
      "  File \"C:\\Users\\PRAJUBED\\Anaconda3\\lib\\site-packages\\joblib\\parallel.py\", line 262, in <listcomp>\n",
      "    return [func(*args, **kwargs)\n",
      "  File \"C:\\Users\\PRAJUBED\\Anaconda3\\lib\\site-packages\\sklearn\\utils\\fixes.py\", line 216, in __call__\n",
      "    return self.function(*args, **kwargs)\n",
      "  File \"C:\\Users\\PRAJUBED\\Anaconda3\\lib\\site-packages\\sklearn\\ensemble\\_forest.py\", line 185, in _parallel_build_trees\n",
      "    tree.fit(X, y, sample_weight=curr_sample_weight, check_input=False)\n",
      "  File \"C:\\Users\\PRAJUBED\\Anaconda3\\lib\\site-packages\\sklearn\\tree\\_classes.py\", line 937, in fit\n",
      "    super().fit(\n",
      "  File \"C:\\Users\\PRAJUBED\\Anaconda3\\lib\\site-packages\\sklearn\\tree\\_classes.py\", line 250, in fit\n",
      "    raise ValueError(\n",
      "ValueError: min_samples_split must be an integer greater than 1 or a float in (0.0, 1.0]; got the integer 1\n",
      "\n",
      "  warnings.warn(some_fits_failed_message, FitFailedWarning)\n",
      "C:\\Users\\PRAJUBED\\Anaconda3\\lib\\site-packages\\sklearn\\model_selection\\_search.py:969: UserWarning: One or more of the test scores are non-finite: [       nan 0.74782609 0.66668018 0.80034896 0.67015373 0.55816844\n",
      "        nan 0.67578893 0.75607281 0.71093841 0.67361973 0.75824012\n",
      " 0.68794303 0.56467415 0.71701405 0.78645761 0.68794209 0.67405923\n",
      "        nan 0.74825804 0.68316609        nan        nan 0.56814675\n",
      " 0.69965953 0.69010846 0.77907479 0.75607092 0.56945299 0.77647364\n",
      " 0.59159766 0.69314911 0.56293879 0.57031878 0.74695935 0.73046874\n",
      " 0.76736018 0.79036499 0.76388381        nan        nan 0.78168349\n",
      " 0.80034424 0.56814864 0.72005187 0.77690842 0.56467886 0.73220598\n",
      " 0.68490239 0.72916816 0.74218523 0.76823069 0.57031783 0.71875318\n",
      " 0.76258417 0.73003395 0.56901915 0.71962181 0.76518721 0.67188532\n",
      " 0.74305197 0.56640951 0.737413   0.72091955 0.72699802 0.69661982\n",
      " 0.72959917 0.75346789 0.7226568  0.56684429 0.56901254 0.56424314\n",
      " 0.73958219 0.65886353 0.73176837        nan 0.56207771 0.66971706\n",
      " 0.56858436 0.80164576 0.72699802 0.56727907 0.74522682 0.72656229\n",
      " 0.75693766 0.77517212 0.5651061  0.68446855 0.72873338 0.56033481\n",
      " 0.74609073 0.57119023 0.68012638 0.52952278 0.5560049  0.71744978\n",
      " 0.76475809 0.73697916 0.77430727 0.67362256]\n",
      "  warnings.warn(\n"
     ]
    },
    {
     "data": {
      "text/plain": [
       "RandomizedSearchCV(cv=5, estimator=RandomForestClassifier(), n_iter=100,\n",
       "                   param_distributions={'max_depth': [None, 3, 5, 20],\n",
       "                                        'min_samples_leaf': array([ 2,  4,  6,  8, 10, 12, 14, 16, 18]),\n",
       "                                        'min_samples_split': array([ 1,  3,  5,  7,  9, 11, 13, 15, 17, 19]),\n",
       "                                        'n_estimators': array([  1,  51, 101, 151, 201, 251, 301, 351, 401, 451, 501, 551, 601,\n",
       "       651, 701, 751, 801, 851, 901, 951])},\n",
       "                   verbose=True)"
      ]
     },
     "execution_count": 50,
     "metadata": {},
     "output_type": "execute_result"
    }
   ],
   "source": [
    "#fiting train data inside tuned model.\n",
    "ran_cv_log.fit(x_train,y_train)"
   ]
  },
  {
   "cell_type": "code",
   "execution_count": 51,
   "id": "8f063a6e",
   "metadata": {},
   "outputs": [
    {
     "data": {
      "text/plain": [
       "0.8368055555555556"
      ]
     },
     "execution_count": 51,
     "metadata": {},
     "output_type": "execute_result"
    }
   ],
   "source": [
    "#Having look at score of tuned model.\n",
    "ran_cv_log.score(x_test,y_test)"
   ]
  },
  {
   "cell_type": "markdown",
   "id": "81be0742",
   "metadata": {},
   "source": [
    "# Model Prediction"
   ]
  },
  {
   "cell_type": "code",
   "execution_count": 52,
   "id": "b6f0f436",
   "metadata": {},
   "outputs": [
    {
     "data": {
      "text/plain": [
       "array([3, 8, 3, 3, 4, 3, 7, 8, 4, 4, 3, 4, 5, 3, 3, 3, 5, 4, 3, 7, 6, 7,\n",
       "       5, 7, 7, 5, 3, 5, 5, 8, 5, 3, 7, 3, 3, 3, 5, 8, 5, 7, 3, 8, 5, 5,\n",
       "       7, 8, 7, 7, 6, 8, 4, 7, 6, 3, 4, 8, 4, 5, 6, 8, 7, 7, 3, 6, 3, 8,\n",
       "       7, 8, 7, 5, 3, 4, 4, 4, 3, 7, 7, 5, 5, 7, 8, 6, 4, 7, 5, 7, 8, 5,\n",
       "       6, 3, 8, 4, 3, 8, 5, 7, 6, 5, 5, 7, 7, 8, 4, 3, 5, 8, 7, 3, 6, 6,\n",
       "       4, 8, 6, 6, 7, 8, 4, 5, 8, 3, 4, 7, 4, 5, 5, 5, 4, 7, 4, 8, 4, 6,\n",
       "       7, 4, 6, 8, 8, 4, 6, 5, 8, 8, 5, 3, 5, 3, 6, 7, 3, 4, 5, 8, 8, 7,\n",
       "       8, 6, 3, 5, 7, 5, 7, 4, 8, 3, 8, 7, 4, 5, 4, 6, 3, 5, 3, 3, 3, 4,\n",
       "       5, 8, 3, 5, 5, 5, 4, 6, 8, 4, 5, 8, 7, 4, 3, 5, 8, 5, 3, 3, 4, 7,\n",
       "       6, 6, 7, 7, 4, 8, 5, 4, 5, 6, 5, 6, 7, 7, 5, 6, 5, 3, 3, 5, 8, 6,\n",
       "       4, 7, 3, 3, 7, 8, 7, 3, 4, 7, 4, 5, 6, 7, 3, 5, 6, 3, 3, 8, 7, 5,\n",
       "       7, 4, 8, 3, 8, 6, 4, 7, 4, 8, 8, 3, 3, 3, 4, 3, 7, 7, 4, 4, 7, 7,\n",
       "       7, 8, 3, 3, 5, 8, 7, 8, 5, 8, 3, 5, 6, 7, 4, 6, 7, 7, 7, 3, 8, 4,\n",
       "       6, 7, 8, 8, 4, 7, 4, 6, 4, 8, 4, 8, 8, 4, 4, 3, 8, 7, 5, 6, 3, 7,\n",
       "       8, 7, 5, 7, 6, 6, 5, 3, 7, 6, 7, 6, 7, 3, 5, 3, 3, 4, 3, 8, 4, 8,\n",
       "       8, 5, 8, 4, 7, 3, 4, 3, 4, 3, 7, 8, 7, 8, 4, 4, 4, 5, 4, 6, 5, 6,\n",
       "       5, 8, 4, 6, 5, 8, 4, 3, 3, 7, 3, 8, 5, 8, 5, 7, 7, 6, 4, 4, 8, 4,\n",
       "       5, 8, 6, 6, 7, 4, 8, 8, 8, 5, 8, 6, 4, 6, 8, 5, 3, 3, 4, 3, 4, 6,\n",
       "       8, 5, 8, 5, 5, 4, 7, 4, 4, 5, 3, 3, 5, 3, 7, 3, 4, 4, 3, 8, 4, 3,\n",
       "       7, 7, 6, 7, 3, 4, 5, 7, 8, 5, 6, 8, 4, 6, 7, 4, 5, 3, 4, 8, 7, 5,\n",
       "       4, 8, 7, 7, 3, 3, 8, 6, 7, 3, 4, 4, 7, 3, 3, 5, 3, 8, 8, 6, 8, 4,\n",
       "       8, 4, 7, 7, 4, 8, 4, 8, 3, 4, 5, 7, 3, 4, 8, 7, 7, 8, 6, 4, 4, 7,\n",
       "       5, 8, 6, 7, 3, 3, 4, 4, 8, 4, 8, 7, 4, 8, 7, 8, 5, 3, 7, 6, 6, 3,\n",
       "       7, 4, 4, 4, 4, 3, 6, 7, 7, 6, 7, 4, 6, 4, 7, 7, 5, 4, 5, 8, 3, 5,\n",
       "       7, 8, 7, 8, 3, 7, 8, 3, 6, 6, 6, 6, 8, 4, 4, 4, 5, 3, 5, 7, 8, 3,\n",
       "       7, 8, 6, 7, 6, 7, 6, 3, 5, 5, 7, 5, 7, 8, 5, 6, 4, 8, 3, 7, 8, 4,\n",
       "       7, 7, 5, 3], dtype=int64)"
      ]
     },
     "execution_count": 52,
     "metadata": {},
     "output_type": "execute_result"
    }
   ],
   "source": [
    "#Making prediction with the help of tuned model and x test data.\n",
    "y_pred = ran_cv_log.predict(x_test)\n",
    "y_pred"
   ]
  },
  {
   "cell_type": "code",
   "execution_count": 53,
   "id": "61d78b3e",
   "metadata": {},
   "outputs": [
    {
     "name": "stdout",
     "output_type": "stream",
     "text": [
      "[[ 98   0   0   0   0   0]\n",
      " [  0  91   4   1   0   0]\n",
      " [  2   9  58  11   3   0]\n",
      " [  0   5  26  45  20   1]\n",
      " [  0   1   1   9  90   1]\n",
      " [  0   0   0   0   0 100]]\n"
     ]
    }
   ],
   "source": [
    "#Having look at confusion metrix.\n",
    "print(confusion_matrix(y_test,y_pred))"
   ]
  },
  {
   "cell_type": "code",
   "execution_count": 54,
   "id": "2a9a9503",
   "metadata": {},
   "outputs": [
    {
     "data": {
      "image/png": "[encoded data removed]",
      "text/plain": [
       "<Figure size 360x360 with 2 Axes>"
      ]
     },
     "metadata": {},
     "output_type": "display_data"
    }
   ],
   "source": [
    "#visualizing the confusion metrix.\n",
    "def plot_cof_met(y_test,y_pred):\n",
    "    \n",
    "    fig,ax = plt.subplots(figsize = (5,5))\n",
    "    \n",
    "    ax = sns.heatmap(confusion_matrix(y_test,y_pred),\n",
    "                     annot = True,\n",
    "                     cmap = \"BuGn\")\n",
    "    \n",
    "    plt.xlabel(\"predicted Values\")\n",
    "    plt.ylabel(\"True Values\")\n",
    "    \n",
    "    \n",
    "plot_cof_met(y_test,y_pred) "
   ]
  },
  {
   "cell_type": "code",
   "execution_count": 55,
   "id": "4d056fea",
   "metadata": {},
   "outputs": [
    {
     "name": "stdout",
     "output_type": "stream",
     "text": [
      "              precision    recall  f1-score   support\n",
      "\n",
      "           3       0.98      1.00      0.99        98\n",
      "           4       0.86      0.95      0.90        96\n",
      "           5       0.65      0.70      0.67        83\n",
      "           6       0.68      0.46      0.55        97\n",
      "           7       0.80      0.88      0.84       102\n",
      "           8       0.98      1.00      0.99       100\n",
      "\n",
      "    accuracy                           0.84       576\n",
      "   macro avg       0.82      0.83      0.82       576\n",
      "weighted avg       0.83      0.84      0.83       576\n",
      "\n"
     ]
    }
   ],
   "source": [
    "#Having look at classification report.\n",
    "print(classification_report(y_test,y_pred))"
   ]
  },
  {
   "cell_type": "markdown",
   "id": "64ed646e",
   "metadata": {},
   "source": [
    "* As we see our model is giving us 82% of accuracy."
   ]
  },
  {
   "cell_type": "code",
   "execution_count": 56,
   "id": "7b86913c",
   "metadata": {},
   "outputs": [
    {
     "data": {
      "text/plain": [
       "{'n_estimators': 151,\n",
       " 'min_samples_split': 3,\n",
       " 'min_samples_leaf': 2,\n",
       " 'max_depth': None}"
      ]
     },
     "execution_count": 56,
     "metadata": {},
     "output_type": "execute_result"
    }
   ],
   "source": [
    "#Here we are finding the best parameter from gd_log_reg model.\n",
    "ran_cv_log.best_params_"
   ]
  },
  {
   "cell_type": "code",
   "execution_count": 57,
   "id": "b88a5dd5",
   "metadata": {},
   "outputs": [
    {
     "data": {
      "text/plain": [
       "RandomForestClassifier(max_depth=20, min_samples_leaf=2, min_samples_split=5,\n",
       "                       n_estimators=751)"
      ]
     },
     "execution_count": 57,
     "metadata": {},
     "output_type": "execute_result"
    }
   ],
   "source": [
    "clf = RandomForestClassifier(n_estimators = 751,\n",
    " min_samples_split= 5,\n",
    " min_samples_leaf= 2,\n",
    " max_depth= 20)\n",
    "\n",
    "clf.fit(x_train,y_train)"
   ]
  },
  {
   "cell_type": "code",
   "execution_count": 58,
   "id": "2315a001",
   "metadata": {},
   "outputs": [
    {
     "data": {
      "text/plain": [
       "array([0.06239418, 0.13636066, 0.06436451, 0.11112681, 0.07314463,\n",
       "       0.1157469 , 0.06993917, 0.07358762, 0.13394394, 0.15939159])"
      ]
     },
     "execution_count": 58,
     "metadata": {},
     "output_type": "execute_result"
    }
   ],
   "source": [
    "#Having a look at coefficient.\n",
    "clf.feature_importances_"
   ]
  },
  {
   "cell_type": "code",
   "execution_count": 59,
   "id": "b117bc81",
   "metadata": {},
   "outputs": [
    {
     "data": {
      "text/plain": [
       "{'fixed acidity': 0.0623941811132188,\n",
       " 'volatile acidity': 0.13636065847595166,\n",
       " 'citric acid': 0.06436450719043052,\n",
       " 'chlorides': 0.11112681065166859,\n",
       " 'free sulfur dioxide': 0.07314462877079039,\n",
       " 'total sulfur dioxide': 0.11574689753470788,\n",
       " 'density': 0.06993916757962222,\n",
       " 'pH': 0.07358762187271302,\n",
       " 'sulphates': 0.13394394046664623,\n",
       " 'alcohol': 0.15939158634425077}"
      ]
     },
     "execution_count": 59,
     "metadata": {},
     "output_type": "execute_result"
    }
   ],
   "source": [
    "#Having look at which column contributed more in the prediction.\n",
    "con_byu = dict(zip(x_train.columns,clf.feature_importances_))\n",
    "con_byu"
   ]
  },
  {
   "cell_type": "code",
   "execution_count": 60,
   "id": "ae3f4872",
   "metadata": {},
   "outputs": [
    {
     "data": {
      "image/png": "[encoded data removed]",
      "text/plain": [
       "<Figure size 1080x720 with 1 Axes>"
      ]
     },
     "metadata": {},
     "output_type": "display_data"
    }
   ],
   "source": [
    "#Visualization.\n",
    "con_byu = pd.DataFrame(con_byu , index = [\"Accuracy\"])\n",
    "con_byu.T.plot(kind = \"bar\" , figsize = (15,10))\n",
    "plt.title(\"Contribution of columns in making prediction\")\n",
    "plt.xlabel(\"Columns Names\")\n",
    "plt.ylabel(\"Amount\")\n",
    "plt.xticks(rotation = 45);"
   ]
  },
  {
   "cell_type": "markdown",
   "id": "f9c6748f",
   "metadata": {},
   "source": [
    "* Here Features Importance show which feature contributing how much in prediction.\n",
    "* Feature that are contributing more in prediction are:\n",
    "    * volatile acidity\n",
    "    * chlorides\n",
    "    * total sulfur dioxide\n",
    "    * sulphates\n",
    "    * alcohol"
   ]
  }
 ],
 "metadata": {
  "kernelspec": {
   "display_name": "Python 3 (ipykernel)",
   "language": "python",
   "name": "python3"
  },
  "language_info": {
   "codemirror_mode": {
    "name": "ipython",
    "version": 3
   },
   "file_extension": ".py",
   "mimetype": "text/x-python",
   "name": "python",
   "nbconvert_exporter": "python",
   "pygments_lexer": "ipython3",
   "version": "3.9.7"
  }
 },
 "nbformat": 4,
 "nbformat_minor": 5
}
